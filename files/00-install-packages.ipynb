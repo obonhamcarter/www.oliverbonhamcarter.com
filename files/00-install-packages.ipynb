{
 "cells": [
  {
   "cell_type": "markdown",
   "id": "cf5f29a9",
   "metadata": {},
   "source": [
    "# Package Installation for Data Analytics\n",
    "Run this cell first to install required packages for data analytics notebooks."
   ]
  },
  {
   "cell_type": "code",
   "execution_count": null,
   "id": "963b1075",
   "metadata": {},
   "outputs": [],
   "source": [
    "# Install required packages for data analytics\n",
    "import piplite\n",
    "await piplite.install(['seaborn', 'matplotlib', 'pandas', 'numpy', 'scipy', 'plotly'])\n",
    "print(\"Packages installed successfully!\")\n",
    "print(\"You can now import and use: seaborn, matplotlib, pandas, numpy, scipy, plotly\")"
   ]
  },
  {
   "cell_type": "code",
   "execution_count": null,
   "id": "baa03915",
   "metadata": {},
   "outputs": [],
   "source": [
    "# Test imports\n",
    "import numpy as np\n",
    "import pandas as pd\n",
    "import matplotlib.pyplot as plt\n",
    "import seaborn as sns\n",
    "import scipy.stats as stats\n",
    "\n",
    "print(\"All packages imported successfully!\")\n",
    "print(f\"NumPy version: {np.__version__}\")\n",
    "print(f\"Pandas version: {pd.__version__}\")\n",
    "print(f\"Matplotlib version: {plt.matplotlib.__version__}\")\n",
    "print(f\"Seaborn version: {sns.__version__}\")"
   ]
  }
 ],
 "metadata": {
  "language_info": {
   "name": "python"
  }
 },
 "nbformat": 4,
 "nbformat_minor": 5
}
