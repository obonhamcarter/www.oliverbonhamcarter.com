{
 "cells": [
  {
   "cell_type": "markdown",
   "id": "a6eae056",
   "metadata": {},
   "source": [
    "# Lesson 3: Creating Your First Data Visualizations\n",
    "\n",
    "## Making Data Come Alive with Pictures\n",
    "\n",
    "They say \"a picture is worth a thousand words\" - and this is especially true with data! Today we'll learn how to create charts and graphs that make patterns jump out at us. It's much easier to spot trends in a picture than in a table of numbers."
   ]
  },
  {
   "cell_type": "markdown",
   "id": "5527bff8",
   "metadata": {},
   "source": [
    "## Learning Goals\n",
    "\n",
    "By the end of this lesson, you will be able to:\n",
    "- Create different types of plots (bar charts, line plots, scatter plots, histograms)\n",
    "- Choose the right visualization for your data\n",
    "- Make your plots clear and attractive with proper labels\n",
    "- Spot patterns and trends through visualization\n",
    "- Create comprehensive multi-plot analyses"
   ]
  },
  {
   "cell_type": "markdown",
   "id": "0c55681f",
   "metadata": {},
   "source": [
    "## Setting Up for Visualization\n",
    "\n",
    "First, let's import the tools we need and recreate our student dataset:"
   ]
  },
  {
   "cell_type": "code",
   "execution_count": null,
   "id": "afd300cf",
   "metadata": {},
   "outputs": [],
   "source": [
    "# Install required packages for data analytics\n",
    "import piplite\n",
    "await piplite.install(['seaborn', 'matplotlib', 'pandas', 'numpy', 'scipy', 'plotly'])\n",
    "print(\"Packages installed successfully!\")\n",
    "print(\"You can now import and use: seaborn, matplotlib, pandas, numpy, scipy, plotly\")"
   ]
  },
  {
   "cell_type": "code",
   "execution_count": null,
   "id": "474c4e8d",
   "metadata": {},
   "outputs": [],
   "source": [
    "import pandas as pd\n",
    "import numpy as np\n",
    "import matplotlib.pyplot as plt  # This is our main plotting tool\n",
    "import seaborn as sns           # This makes our plots look prettier\n",
    "\n",
    "# Set up nice-looking plots\n",
    "plt.style.use('default')  # Clean, simple style\n",
    "sns.set_palette(\"husl\")   # Pretty colors"
   ]
  },
  {
   "cell_type": "code",
   "execution_count": null,
   "id": "841be38f",
   "metadata": {},
   "outputs": [],
   "source": [
    "# Our student dataset with all the information we've been using\n",
    "student_data = {\n",
    "    'Name': ['Alice', 'Bob', 'Charlie', 'Diana', 'Eva', 'Frank', 'Grace', 'Henry'],\n",
    "    'Age': [16, 17, 16, 18, 17, 16, 17, 18],\n",
    "    'Grade': ['10th', '11th', '10th', '12th', '11th', '10th', '11th', '12th'],\n",
    "    'Math_Score': [85, 92, 78, 95, 88, 76, 91, 87],\n",
    "    'Science_Score': [89, 87, 82, 98, 85, 79, 93, 89],\n",
    "    'English_Score': [92, 85, 88, 91, 94, 83, 89, 86],\n",
    "    'Hours_Studied': [5, 8, 4, 10, 6, 3, 9, 7],\n",
    "    'Extracurriculars': [2, 1, 3, 2, 4, 1, 2, 3]\n",
    "}\n",
    "\n",
    "df = pd.DataFrame(student_data)\n",
    "df['Average_Score'] = df[['Math_Score', 'Science_Score', 'English_Score']].mean(axis=1)\n",
    "\n",
    "print(\"Ready to visualize our data!\")\n",
    "print(df.head())"
   ]
  },
  {
   "cell_type": "markdown",
   "id": "1f214f63",
   "metadata": {},
   "source": [
    "## 1. Bar Charts - Comparing Categories\n",
    "\n",
    "Bar charts are perfect for comparing different groups. Let's see how each grade level performs:"
   ]
  },
  {
   "cell_type": "code",
   "execution_count": null,
   "id": "30eef46a",
   "metadata": {},
   "outputs": [],
   "source": [
    "# Calculate average scores by grade\n",
    "grade_averages = df.groupby('Grade')['Average_Score'].mean()\n",
    "\n",
    "# Create our first bar chart\n",
    "plt.figure(figsize=(8, 6))  # Set the size of our plot\n",
    "plt.bar(grade_averages.index, grade_averages.values, \n",
    "        color=['lightblue', 'lightgreen', 'lightcoral'])\n",
    "\n",
    "# Make it look nice with labels\n",
    "plt.title('Average Scores by Grade Level', fontsize=16, fontweight='bold')\n",
    "plt.xlabel('Grade Level', fontsize=12)\n",
    "plt.ylabel('Average Score', fontsize=12)\n",
    "plt.ylim(80, 95)  # Set the range of the y-axis for better visibility\n",
    "\n",
    "# Add value labels on top of each bar\n",
    "for i, v in enumerate(grade_averages.values):\n",
    "    plt.text(i, v + 0.5, f'{v:.1f}', ha='center', fontweight='bold')\n",
    "\n",
    "plt.tight_layout()  # Make sure everything fits nicely\n",
    "plt.show()\n",
    "\n",
    "# Let's also print the numbers\n",
    "print(\"Grade Level Performance:\")\n",
    "for grade, avg in grade_averages.items():\n",
    "    print(f\"{grade} grade: {avg:.1f} points\")"
   ]
  },
  {
   "cell_type": "markdown",
   "id": "647cd768",
   "metadata": {},
   "source": [
    "## 2. Horizontal Bar Charts - When Names Are Long\n",
    "\n",
    "Sometimes horizontal bars work better, especially when we have names:"
   ]
  },
  {
   "cell_type": "code",
   "execution_count": null,
   "id": "9d5fc2d9",
   "metadata": {},
   "outputs": [],
   "source": [
    "# Let's look at individual student performance\n",
    "plt.figure(figsize=(10, 6))\n",
    "\n",
    "# Create horizontal bar chart\n",
    "plt.barh(df['Name'], df['Average_Score'], color='skyblue')\n",
    "\n",
    "# Add labels and title\n",
    "plt.title('Individual Student Performance', fontsize=16, fontweight='bold')\n",
    "plt.xlabel('Average Score', fontsize=12)\n",
    "plt.ylabel('Student Name', fontsize=12)\n",
    "\n",
    "# Add score values at the end of each bar\n",
    "for i, (name, score) in enumerate(zip(df['Name'], df['Average_Score'])):\n",
    "    plt.text(score + 0.5, i, f'{score:.1f}', va='center', fontweight='bold')\n",
    "\n",
    "plt.tight_layout()\n",
    "plt.show()\n",
    "\n",
    "# Find the top and bottom performers\n",
    "top_student = df.loc[df['Average_Score'].idxmax()]\n",
    "bottom_student = df.loc[df['Average_Score'].idxmin()]\n",
    "print(f\"Top performer: {top_student['Name']} with {top_student['Average_Score']:.1f}\")\n",
    "print(f\"Needs support: {bottom_student['Name']} with {bottom_student['Average_Score']:.1f}\")"
   ]
  },
  {
   "cell_type": "markdown",
   "id": "39cbd675",
   "metadata": {},
   "source": [
    "## 3. Line Plots - Showing Trends and Relationships\n",
    "\n",
    "Line plots are great for showing how one thing changes with another:"
   ]
  },
  {
   "cell_type": "code",
   "execution_count": null,
   "id": "7f4496d6",
   "metadata": {},
   "outputs": [],
   "source": [
    "# Let's see if more study hours lead to better performance\n",
    "plt.figure(figsize=(10, 6))\n",
    "\n",
    "# Sort by study hours to make the line make sense\n",
    "df_sorted = df.sort_values('Hours_Studied')\n",
    "\n",
    "plt.plot(df_sorted['Hours_Studied'], df_sorted['Average_Score'], \n",
    "         marker='o', linewidth=2, markersize=8, color='darkblue')\n",
    "\n",
    "# Add labels for each point\n",
    "for _, student in df_sorted.iterrows():\n",
    "    plt.annotate(student['Name'], \n",
    "                (student['Hours_Studied'], student['Average_Score']),\n",
    "                xytext=(5, 5), textcoords='offset points', fontsize=10)\n",
    "\n",
    "plt.title('Study Hours vs. Average Performance', fontsize=16, fontweight='bold')\n",
    "plt.xlabel('Hours Studied per Week', fontsize=12)\n",
    "plt.ylabel('Average Score', fontsize=12)\n",
    "plt.grid(True, alpha=0.3)  # Add a light grid to make it easier to read\n",
    "plt.tight_layout()\n",
    "plt.show()\n",
    "\n",
    "# Calculate if there's a relationship\n",
    "correlation = df['Hours_Studied'].corr(df['Average_Score'])\n",
    "print(f\"Correlation between study hours and performance: {correlation:.2f}\")\n",
    "if correlation > 0.7:\n",
    "    print(\"Strong positive relationship - more study time = better grades!\")\n",
    "elif correlation > 0.3:\n",
    "    print(\"Moderate positive relationship - study time helps somewhat\")\n",
    "else:\n",
    "    print(\"Weak relationship - other factors might be more important\")"
   ]
  },
  {
   "cell_type": "markdown",
   "id": "3252f200",
   "metadata": {},
   "source": [
    "## 4. Scatter Plots - Exploring Relationships\n",
    "\n",
    "Scatter plots help us see relationships between two continuous variables:"
   ]
  },
  {
   "cell_type": "code",
   "execution_count": null,
   "id": "b3366d25",
   "metadata": {},
   "outputs": [],
   "source": [
    "# Create a scatter plot showing study hours vs performance\n",
    "plt.figure(figsize=(10, 8))\n",
    "\n",
    "# Different colors for different grades\n",
    "grade_colors = {'10th': 'red', '11th': 'blue', '12th': 'green'}\n",
    "colors = [grade_colors[grade] for grade in df['Grade']]\n",
    "\n",
    "plt.scatter(df['Hours_Studied'], df['Average_Score'], \n",
    "           c=colors, s=100, alpha=0.7, edgecolors='black')\n",
    "\n",
    "# Add student names as labels\n",
    "for _, student in df.iterrows():\n",
    "    plt.annotate(student['Name'], \n",
    "                (student['Hours_Studied'], student['Average_Score']),\n",
    "                xytext=(5, 5), textcoords='offset points', fontsize=9)\n",
    "\n",
    "plt.title('Study Hours vs. Performance by Grade Level', fontsize=16, fontweight='bold')\n",
    "plt.xlabel('Hours Studied per Week', fontsize=12)\n",
    "plt.ylabel('Average Score', fontsize=12)\n",
    "\n",
    "# Create a legend for the colors\n",
    "for grade, color in grade_colors.items():\n",
    "    plt.scatter([], [], c=color, label=grade, s=100, alpha=0.7, edgecolors='black')\n",
    "plt.legend(title='Grade Level')\n",
    "\n",
    "plt.grid(True, alpha=0.3)\n",
    "plt.tight_layout()\n",
    "plt.show()\n",
    "\n",
    "print(\"What does this tell us?\")\n",
    "print(\"- Red dots = 10th graders\")  \n",
    "print(\"- Blue dots = 11th graders\")\n",
    "print(\"- Green dots = 12th graders\")\n",
    "print(\"Look for patterns: Do different grades cluster together?\")"
   ]
  },
  {
   "cell_type": "markdown",
   "id": "3888aeee",
   "metadata": {},
   "source": [
    "## 5. Histograms - Understanding Distributions\n",
    "\n",
    "Histograms show us how values are distributed:"
   ]
  },
  {
   "cell_type": "code",
   "execution_count": null,
   "id": "dec283f1",
   "metadata": {},
   "outputs": [],
   "source": [
    "# Let's look at the distribution of test scores\n",
    "fig, axes = plt.subplots(2, 2, figsize=(12, 10))\n",
    "fig.suptitle('Distribution of Test Scores', fontsize=16, fontweight='bold')\n",
    "\n",
    "# Math scores\n",
    "axes[0, 0].hist(df['Math_Score'], bins=6, color='lightblue', edgecolor='black', alpha=0.7)\n",
    "axes[0, 0].set_title('Math Scores')\n",
    "axes[0, 0].set_xlabel('Score')\n",
    "axes[0, 0].set_ylabel('Number of Students')\n",
    "\n",
    "# Science scores\n",
    "axes[0, 1].hist(df['Science_Score'], bins=6, color='lightgreen', edgecolor='black', alpha=0.7)\n",
    "axes[0, 1].set_title('Science Scores')\n",
    "axes[0, 1].set_xlabel('Score')\n",
    "axes[0, 1].set_ylabel('Number of Students')\n",
    "\n",
    "# English scores\n",
    "axes[1, 0].hist(df['English_Score'], bins=6, color='lightcoral', edgecolor='black', alpha=0.7)\n",
    "axes[1, 0].set_title('English Scores')\n",
    "axes[1, 0].set_xlabel('Score')\n",
    "axes[1, 0].set_ylabel('Number of Students')\n",
    "\n",
    "# Study hours\n",
    "axes[1, 1].hist(df['Hours_Studied'], bins=5, color='lightyellow', edgecolor='black', alpha=0.7)\n",
    "axes[1, 1].set_title('Study Hours per Week')\n",
    "axes[1, 1].set_xlabel('Hours')\n",
    "axes[1, 1].set_ylabel('Number of Students')\n",
    "\n",
    "plt.tight_layout()\n",
    "plt.show()\n",
    "\n",
    "# Analyze what we see\n",
    "print(\"What do these distributions tell us?\")\n",
    "for subject in ['Math_Score', 'Science_Score', 'English_Score']:\n",
    "    mean_score = df[subject].mean()\n",
    "    std_score = df[subject].std()\n",
    "    print(f\"{subject.replace('_', ' ')}: Average = {mean_score:.1f}, Spread = {std_score:.1f}\")"
   ]
  },
  {
   "cell_type": "markdown",
   "id": "0d817908",
   "metadata": {},
   "source": [
    "## 6. Box Plots - Comparing Groups\n",
    "\n",
    "Box plots are excellent for comparing different groups:"
   ]
  },
  {
   "cell_type": "code",
   "execution_count": null,
   "id": "d221d019",
   "metadata": {},
   "outputs": [],
   "source": [
    "# Compare subject performance across all students\n",
    "plt.figure(figsize=(10, 6))\n",
    "\n",
    "# Prepare data for box plot\n",
    "subjects_data = [df['Math_Score'], df['Science_Score'], df['English_Score']]\n",
    "subject_names = ['Math', 'Science', 'English']\n",
    "\n",
    "box_plot = plt.boxplot(subjects_data, labels=subject_names, patch_artist=True)\n",
    "\n",
    "# Make it colorful\n",
    "colors = ['lightblue', 'lightgreen', 'lightcoral']\n",
    "for patch, color in zip(box_plot['boxes'], colors):\n",
    "    patch.set_facecolor(color)\n",
    "\n",
    "plt.title('Score Distribution by Subject', fontsize=16, fontweight='bold')\n",
    "plt.ylabel('Score', fontsize=12)\n",
    "plt.xlabel('Subject', fontsize=12)\n",
    "plt.grid(True, alpha=0.3)\n",
    "plt.tight_layout()\n",
    "plt.show()\n",
    "\n",
    "print(\"Understanding Box Plots:\")\n",
    "print(\"- The box shows where the middle 50% of scores fall\")\n",
    "print(\"- The line in the middle is the median (middle value)\")\n",
    "print(\"- The 'whiskers' show the range of most scores\")\n",
    "print(\"- Dots outside are outliers (unusual values)\")"
   ]
  },
  {
   "cell_type": "markdown",
   "id": "3b659a11",
   "metadata": {},
   "source": [
    "## 7. Multiple Variables in One Plot\n",
    "\n",
    "Sometimes we want to show several things at once:"
   ]
  },
  {
   "cell_type": "code",
   "execution_count": null,
   "id": "aaab91e1",
   "metadata": {},
   "outputs": [],
   "source": [
    "# Create a comprehensive view of our data\n",
    "fig, axes = plt.subplots(2, 2, figsize=(15, 12))\n",
    "fig.suptitle('Complete Student Performance Analysis', fontsize=18, fontweight='bold')\n",
    "\n",
    "# 1. Performance by Grade (Bar Chart)\n",
    "grade_avg = df.groupby('Grade')['Average_Score'].mean()\n",
    "axes[0, 0].bar(grade_avg.index, grade_avg.values, color=['lightblue', 'lightgreen', 'lightcoral'])\n",
    "axes[0, 0].set_title('Average Performance by Grade')\n",
    "axes[0, 0].set_ylabel('Average Score')\n",
    "\n",
    "# 2. Study Hours Effect (Scatter Plot)\n",
    "scatter = axes[0, 1].scatter(df['Hours_Studied'], df['Average_Score'], \n",
    "                   c=df['Age'], cmap='viridis', s=100, alpha=0.7)\n",
    "axes[0, 1].set_title('Study Hours vs. Performance (Color = Age)')\n",
    "axes[0, 1].set_xlabel('Hours Studied')\n",
    "axes[0, 1].set_ylabel('Average Score')\n",
    "plt.colorbar(scatter, ax=axes[0, 1])\n",
    "\n",
    "# 3. Subject Comparison (Box Plot)\n",
    "subject_data = [df['Math_Score'], df['Science_Score'], df['English_Score']]\n",
    "box_plot = axes[1, 0].boxplot(subject_data, labels=['Math', 'Science', 'English'])\n",
    "axes[1, 0].set_title('Score Distribution by Subject')\n",
    "axes[1, 0].set_ylabel('Score')\n",
    "\n",
    "# 4. Individual Performance (Horizontal Bar)\n",
    "axes[1, 1].barh(df['Name'], df['Average_Score'], color='skyblue')\n",
    "axes[1, 1].set_title('Individual Student Performance')\n",
    "axes[1, 1].set_xlabel('Average Score')\n",
    "\n",
    "plt.tight_layout()\n",
    "plt.show()\n",
    "\n",
    "print(\"This comprehensive view helps us see:\")\n",
    "print(\"1. Which grades perform best overall\")\n",
    "print(\"2. How study time relates to performance\")  \n",
    "print(\"3. Which subjects are most/least challenging\")\n",
    "print(\"4. How individual students compare\")"
   ]
  },
  {
   "cell_type": "markdown",
   "id": "4a8ab7d9",
   "metadata": {},
   "source": [
    "## Key Learning Points\n",
    "\n",
    "1. **Different plots for different purposes**:\n",
    "   - Bar charts: Compare categories\n",
    "   - Line plots: Show trends over time or relationships\n",
    "   - Scatter plots: Explore relationships between variables\n",
    "   - Histograms: Understand distributions\n",
    "   - Box plots: Compare groups\n",
    "\n",
    "2. **Always add clear labels** - title, axis labels, and legends make plots understandable\n",
    "\n",
    "3. **Colors and formatting matter** - they help tell your story\n",
    "\n",
    "4. **Start simple, then add complexity** - basic plots first, then enhance\n",
    "\n",
    "5. **Look for patterns** - that's why we make visualizations!"
   ]
  },
  {
   "cell_type": "markdown",
   "id": "077139b8",
   "metadata": {},
   "source": [
    "## Practice Exercises\n",
    "\n",
    "Try these exercises to practice your visualization skills:"
   ]
  },
  {
   "cell_type": "code",
   "execution_count": null,
   "id": "792dd2f3",
   "metadata": {},
   "outputs": [],
   "source": [
    "# Exercise 1: Create Your Movie Plots\n",
    "# Using your movie dataset from previous lessons:\n",
    "\n",
    "# First, let's recreate the movie dataset:\n",
    "movies_data = {\n",
    "    'Title': ['The Matrix', 'Inception', 'Parasite', 'Toy Story', 'Pulp Fiction', 'The Dark Knight'],\n",
    "    'Year': [1999, 2010, 2019, 1995, 1994, 2008],\n",
    "    'Genre': ['Sci-Fi', 'Sci-Fi', 'Thriller', 'Animation', 'Crime', 'Action'],\n",
    "    'Rating': [8.7, 8.8, 8.6, 8.3, 8.9, 9.0],\n",
    "    'Duration': [136, 148, 132, 81, 154, 152]\n",
    "}\n",
    "\n",
    "movies_df = pd.DataFrame(movies_data)\n",
    "print(\"Movie Dataset:\")\n",
    "print(movies_df)\n",
    "\n",
    "# Create these plots:\n",
    "# - Bar chart of movies per decade\n",
    "# - Scatter plot of year vs. rating\n",
    "# - Histogram of movie ratings\n",
    "\n",
    "# Your code here..."
   ]
  },
  {
   "cell_type": "code",
   "execution_count": null,
   "id": "355b4345",
   "metadata": {},
   "outputs": [],
   "source": [
    "# Exercise 2: Experiment with Colors\n",
    "# Try different color schemes for your plots\n",
    "# Hint: Try colors like 'red', 'blue', 'green' or use colormaps like 'viridis', 'plasma'\n",
    "\n",
    "# Your code here..."
   ]
  },
  {
   "cell_type": "code",
   "execution_count": null,
   "id": "a53e3cea",
   "metadata": {},
   "outputs": [],
   "source": [
    "# Exercise 3: Tell a Story\n",
    "# Create a 2x2 subplot showing different views of your movie data\n",
    "# Make it tell a complete story about the movies\n",
    "\n",
    "# Your code here..."
   ]
  },
  {
   "cell_type": "code",
   "execution_count": null,
   "id": "a29c51c4",
   "metadata": {},
   "outputs": [],
   "source": [
    "# Exercise 4: Add Annotations\n",
    "# Label interesting points in your scatter plots\n",
    "# For example, highlight the highest-rated movie or the oldest movie\n",
    "\n",
    "# Your code here..."
   ]
  },
  {
   "cell_type": "markdown",
   "id": "96d332d0",
   "metadata": {},
   "source": [
    "## What's Next?\n",
    "\n",
    "Now that we can create beautiful visualizations, we're ready to dive deeper into the numbers! In the next lesson, we'll learn about basic statistics that help us understand what our data is really telling us.\n",
    "\n",
    "**Next: [Understanding Basic Statistics and Summaries](/data-analytics-04-basic-statistics/)**"
   ]
  }
 ],
 "metadata": {
  "language_info": {
   "name": "python"
  }
 },
 "nbformat": 4,
 "nbformat_minor": 5
}
