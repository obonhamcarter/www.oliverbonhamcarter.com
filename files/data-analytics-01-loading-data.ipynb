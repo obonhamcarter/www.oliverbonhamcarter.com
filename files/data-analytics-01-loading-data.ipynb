{
 "cells": [
  {
   "cell_type": "markdown",
   "id": "d2b2a076",
   "metadata": {},
   "source": [
    "# Data Analytics Lesson 1: Loading and Understanding Your Data\n",
    "\n",
    "Welcome to your first data analytics lesson! Data analytics is like being a detective - we use data to answer questions and discover patterns. Today, we'll learn how to load data into Python and take our first look at what we're working with."
   ]
  },
  {
   "cell_type": "markdown",
   "id": "078c15da",
   "metadata": {},
   "source": [
    "## What You'll Need\n",
    "\n",
    "Before we start, we need to install some special Python tools (called libraries) that help us work with data:"
   ]
  },
  {
   "cell_type": "code",
   "execution_count": null,
   "id": "9c2713d9",
   "metadata": {},
   "outputs": [],
   "source": [
    "# These are the tools we'll use for data analysis\n",
    "import pandas as pd    # For working with data tables\n",
    "import numpy as np     # For math operations\n",
    "import os             # For working with files\n",
    "\n",
    "# Don't worry if you see warnings - that's normal!\n",
    "print(\"Libraries imported successfully!\")"
   ]
  },
  {
   "cell_type": "markdown",
   "id": "f947c33c",
   "metadata": {},
   "source": [
    "## Loading Your First Dataset\n",
    "\n",
    "Let's start with a simple dataset about students and their test scores. In real life, data often comes in CSV files (Comma Separated Values)."
   ]
  },
  {
   "cell_type": "code",
   "execution_count": null,
   "id": "b60302de",
   "metadata": {},
   "outputs": [],
   "source": [
    "# First, let's create some sample student data to practice with\n",
    "student_data = {\n",
    "    'Name': ['Alice', 'Bob', 'Charlie', 'Diana', 'Eva', 'Frank', 'Grace', 'Henry'],\n",
    "    'Age': [16, 17, 16, 18, 17, 16, 17, 18],\n",
    "    'Grade': ['10th', '11th', '10th', '12th', '11th', '10th', '11th', '12th'],\n",
    "    'Math_Score': [85, 92, 78, 95, 88, 76, 91, 87],\n",
    "    'Science_Score': [89, 87, 82, 98, 85, 79, 93, 89],\n",
    "    'English_Score': [92, 85, 88, 91, 94, 83, 89, 86]\n",
    "}\n",
    "\n",
    "# Convert this into a DataFrame (think of it as a digital spreadsheet)\n",
    "df = pd.DataFrame(student_data)\n",
    "\n",
    "# Let's see what our data looks like\n",
    "print(\"Our Student Dataset:\")\n",
    "print(df)"
   ]
  },
  {
   "cell_type": "markdown",
   "id": "f1561bdf",
   "metadata": {},
   "source": [
    "## Understanding Your Data Structure\n",
    "\n",
    "Now let's explore what we have. Think of this like getting to know a new friend - we want to learn basic facts about our data:"
   ]
  },
  {
   "cell_type": "code",
   "execution_count": null,
   "id": "af3aaa43",
   "metadata": {},
   "outputs": [],
   "source": [
    "# How big is our dataset? (rows and columns)\n",
    "print(\"Dataset shape (rows, columns):\", df.shape)\n",
    "\n",
    "# What types of information do we have?\n",
    "print(\"\\nColumn names:\")\n",
    "print(df.columns.tolist())\n",
    "\n",
    "# What kind of data is in each column?\n",
    "print(\"\\nData types:\")\n",
    "print(df.dtypes)"
   ]
  },
  {
   "cell_type": "markdown",
   "id": "f1f905f2",
   "metadata": {},
   "source": [
    "## Getting Basic Information About Your Data\n",
    "\n",
    "Let's learn some basic facts about our student data:"
   ]
  },
  {
   "cell_type": "code",
   "execution_count": null,
   "id": "daa17b09",
   "metadata": {},
   "outputs": [],
   "source": [
    "# Get a quick summary of numerical columns\n",
    "print(\"Basic Statistics Summary:\")\n",
    "print(df.describe())"
   ]
  },
  {
   "cell_type": "code",
   "execution_count": null,
   "id": "c0b3a277",
   "metadata": {},
   "outputs": [],
   "source": [
    "# Count how many students are in each grade\n",
    "print(\"Students per grade:\")\n",
    "print(df['Grade'].value_counts())"
   ]
  },
  {
   "cell_type": "code",
   "execution_count": null,
   "id": "eb84df42",
   "metadata": {},
   "outputs": [],
   "source": [
    "# Look at just the first few rows (useful for large datasets)\n",
    "print(\"First 3 students:\")\n",
    "print(df.head(3))\n",
    "\n",
    "# Look at the last few rows\n",
    "print(\"\\nLast 3 students:\")\n",
    "print(df.tail(3))"
   ]
  },
  {
   "cell_type": "markdown",
   "id": "64276784",
   "metadata": {},
   "source": [
    "## Practice Exercise\n",
    "\n",
    "Now it's your turn! Try these exercises to practice what you've learned:"
   ]
  },
  {
   "cell_type": "code",
   "execution_count": null,
   "id": "8d959c85",
   "metadata": {},
   "outputs": [],
   "source": [
    "# Exercise 1: Create your own small dataset about your friends or family\n",
    "# Include at least 3 columns and 5 rows\n",
    "# Replace this with your own data!\n",
    "\n",
    "my_data = {\n",
    "    'Name': ['Person1', 'Person2', 'Person3', 'Person4', 'Person5'],\n",
    "    'Age': [20, 25, 30, 22, 28],\n",
    "    'Hobby': ['Reading', 'Sports', 'Music', 'Art', 'Cooking']\n",
    "}\n",
    "\n",
    "my_df = pd.DataFrame(my_data)\n",
    "print(\"My Dataset:\")\n",
    "print(my_df)"
   ]
  },
  {
   "cell_type": "code",
   "execution_count": null,
   "id": "aecaf726",
   "metadata": {},
   "outputs": [],
   "source": [
    "# Exercise 2: Explore your dataset\n",
    "# Use the methods we learned to understand your data\n",
    "\n",
    "print(\"Shape of my dataset:\", my_df.shape)\n",
    "print(\"\\nData types:\")\n",
    "print(my_df.dtypes)\n",
    "print(\"\\nFirst 2 rows:\")\n",
    "print(my_df.head(2))"
   ]
  },
  {
   "cell_type": "markdown",
   "id": "be64b760",
   "metadata": {},
   "source": [
    "## Summary\n",
    "\n",
    "Congratulations! You've completed your first data analytics lesson. Here's what you learned:\n",
    "\n",
    "1. **How to import essential libraries** (pandas, numpy)\n",
    "2. **How to create a DataFrame** from dictionary data\n",
    "3. **How to explore data structure** (shape, columns, data types)\n",
    "4. **How to get basic statistics** using `.describe()`\n",
    "5. **How to view portions of your data** using `.head()` and `.tail()`\n",
    "6. **How to count values** using `.value_counts()`\n",
    "\n",
    "## Next Steps\n",
    "\n",
    "In Lesson 2, we'll learn how to:\n",
    "- Clean messy data\n",
    "- Handle missing values\n",
    "- Filter and sort our data\n",
    "- Load data from real CSV files\n",
    "\n",
    "Keep practicing with different datasets - the more you work with data, the more comfortable you'll become!"
   ]
  }
 ],
 "metadata": {
  "language_info": {
   "name": "python"
  }
 },
 "nbformat": 4,
 "nbformat_minor": 5
}
