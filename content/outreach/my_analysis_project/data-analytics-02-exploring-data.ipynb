{
 "cells": [
  {
   "cell_type": "markdown",
   "id": "0ae837a9",
   "metadata": {},
   "source": [
    "# Lesson 2: Exploring Data - Asking Questions and Finding Patterns\n",
    "\n",
    "Welcome to Lesson 2! In our first lesson, you learned how to load and view data. Now we'll learn how to **explore** that data by asking good questions and looking for interesting patterns.\n",
    "\n",
    "Think of data exploration like being a detective - you're looking for clues and stories hidden in the numbers!"
   ]
  },
  {
   "cell_type": "markdown",
   "id": "5e54c1e1",
   "metadata": {},
   "source": [
    "## Learning Goals\n",
    "\n",
    "By the end of this lesson, you will be able to:\n",
    "- Ask different types of questions about your data\n",
    "- Use pandas functions to explore patterns\n",
    "- Identify interesting relationships between variables\n",
    "- Check for data quality issues\n",
    "- Create a simple data analysis report"
   ]
  },
  {
   "cell_type": "markdown",
   "id": "d23cf92d",
   "metadata": {},
   "source": [
    "## Setting Up Our Data\n",
    "\n",
    "Let's start by recreating the student dataset from Lesson 1:"
   ]
  },
  {
   "cell_type": "code",
   "execution_count": null,
   "id": "9956a7ed",
   "metadata": {},
   "outputs": [],
   "source": [
    "import pandas as pd\n",
    "import numpy as np\n",
    "\n",
    "# Create our student dataset\n",
    "students_data = {\n",
    "    'Name': ['Alice', 'Bob', 'Charlie', 'Diana', 'Eve', 'Frank', 'Grace', 'Henry', 'Iris', 'Jack'],\n",
    "    'Grade': ['10th', '11th', '12th', '10th', '12th', '11th', '10th', '12th', '11th', '10th'],\n",
    "    'Math_Score': [85, 76, 92, 88, 79, 84, 91, 87, 83, 90],\n",
    "    'Science_Score': [78, 82, 89, 85, 88, 79, 86, 91, 87, 84],\n",
    "    'English_Score': [92, 85, 88, 90, 86, 88, 94, 89, 91, 87],\n",
    "    'Hours_Studied': [5, 8, 6, 7, 4, 9, 5, 8, 6, 7],\n",
    "    'Extracurriculars': [2, 1, 3, 2, 1, 2, 4, 1, 3, 2]\n",
    "}\n",
    "\n",
    "df = pd.DataFrame(students_data)\n",
    "print(\"Our Student Dataset:\")\n",
    "print(df)"
   ]
  },
  {
   "cell_type": "markdown",
   "id": "6798713f",
   "metadata": {},
   "source": [
    "## Understanding Different Types of Questions\n",
    "\n",
    "When exploring data, we can ask three main types of questions:\n",
    "\n",
    "1. **Descriptive Questions**: \"What happened?\" or \"What do we have?\"\n",
    "2. **Comparative Questions**: \"How do different groups compare?\"\n",
    "3. **Relationship Questions**: \"How are different things connected?\"\n",
    "\n",
    "Let's practice each type!"
   ]
  },
  {
   "cell_type": "markdown",
   "id": "62d94f73",
   "metadata": {},
   "source": [
    "## 1. Descriptive Questions\n",
    "\n",
    "These help us understand the basic characteristics of our data:"
   ]
  },
  {
   "cell_type": "code",
   "execution_count": null,
   "id": "25fa1be0",
   "metadata": {},
   "outputs": [],
   "source": [
    "# Question: How many students do we have?\n",
    "print(f\"Total number of students: {len(df)}\")"
   ]
  },
  {
   "cell_type": "code",
   "execution_count": null,
   "id": "f682b866",
   "metadata": {},
   "outputs": [],
   "source": [
    "# Question: What's the average score in each subject?\n",
    "print(\"Average Scores:\")\n",
    "print(f\"Math: {df['Math_Score'].mean():.1f}\")\n",
    "print(f\"Science: {df['Science_Score'].mean():.1f}\")\n",
    "print(f\"English: {df['English_Score'].mean():.1f}\")"
   ]
  },
  {
   "cell_type": "code",
   "execution_count": null,
   "id": "e117a60e",
   "metadata": {},
   "outputs": [],
   "source": [
    "# Question: What's the range of study hours?\n",
    "print(f\"Study Hours - Min: {df['Hours_Studied'].min()}, Max: {df['Hours_Studied'].max()}\")\n",
    "print(f\"Average study hours: {df['Hours_Studied'].mean():.1f}\")"
   ]
  },
  {
   "cell_type": "code",
   "execution_count": null,
   "id": "d01ff632",
   "metadata": {},
   "outputs": [],
   "source": [
    "# Question: How many students are in each grade?\n",
    "print(\"Students by Grade:\")\n",
    "print(df['Grade'].value_counts())"
   ]
  },
  {
   "cell_type": "markdown",
   "id": "bf1dd3ac",
   "metadata": {},
   "source": [
    "## 2. Comparative Questions\n",
    "\n",
    "These help us compare different groups:"
   ]
  },
  {
   "cell_type": "code",
   "execution_count": null,
   "id": "7a8e259f",
   "metadata": {},
   "outputs": [],
   "source": [
    "# Question: Do older students score better than younger students?\n",
    "grade_performance = df.groupby('Grade')[['Math_Score', 'Science_Score', 'English_Score']].mean()\n",
    "print(\"Average Scores by Grade:\")\n",
    "print(grade_performance.round(1))"
   ]
  },
  {
   "cell_type": "code",
   "execution_count": null,
   "id": "fa961042",
   "metadata": {},
   "outputs": [],
   "source": [
    "# Question: Who studies the most hours by grade?\n",
    "study_by_grade = df.groupby('Grade')['Hours_Studied'].mean()\n",
    "print(\"Average Study Hours by Grade:\")\n",
    "print(study_by_grade.round(1))"
   ]
  },
  {
   "cell_type": "code",
   "execution_count": null,
   "id": "84305073",
   "metadata": {},
   "outputs": [],
   "source": [
    "# Question: Which subject has the highest scores?\n",
    "subject_averages = {\n",
    "    'Math': df['Math_Score'].mean(),\n",
    "    'Science': df['Science_Score'].mean(), \n",
    "    'English': df['English_Score'].mean()\n",
    "}\n",
    "\n",
    "print(\"Subject Rankings (highest to lowest average):\")\n",
    "sorted_subjects = sorted(subject_averages.items(), key=lambda x: x[1], reverse=True)\n",
    "for i, (subject, avg) in enumerate(sorted_subjects, 1):\n",
    "    print(f\"{i}. {subject}: {avg:.1f}\")"
   ]
  },
  {
   "cell_type": "markdown",
   "id": "4752c70e",
   "metadata": {},
   "source": [
    "## 3. Relationship Questions\n",
    "\n",
    "These help us understand how different variables might be connected:"
   ]
  },
  {
   "cell_type": "code",
   "execution_count": null,
   "id": "0ad21e88",
   "metadata": {},
   "outputs": [],
   "source": [
    "# Question: Do students who study more hours get better grades?\n",
    "# Let's calculate total score first\n",
    "df['Total_Score'] = df['Math_Score'] + df['Science_Score'] + df['English_Score']\n",
    "\n",
    "print(\"Study Hours vs. Total Scores:\")\n",
    "for _, student in df.iterrows():\n",
    "    print(f\"{student['Name']}: {student['Hours_Studied']} hours → {student['Total_Score']} total points\")"
   ]
  },
  {
   "cell_type": "code",
   "execution_count": null,
   "id": "6a0ddab8",
   "metadata": {},
   "outputs": [],
   "source": [
    "# Question: Are students with more extracurriculars better at certain subjects?\n",
    "print(\"Extracurriculars vs. English Scores (communication skills):\")\n",
    "for _, student in df.iterrows():\n",
    "    print(f\"{student['Name']}: {student['Extracurriculars']} activities → {student['English_Score']} English\")"
   ]
  },
  {
   "cell_type": "markdown",
   "id": "c9dbd4db",
   "metadata": {},
   "source": [
    "## Finding Interesting Patterns\n",
    "\n",
    "Let's look for patterns that might surprise us:"
   ]
  },
  {
   "cell_type": "code",
   "execution_count": null,
   "id": "87e9b236",
   "metadata": {},
   "outputs": [],
   "source": [
    "# Create some interesting comparisons\n",
    "df['Average_Score'] = df[['Math_Score', 'Science_Score', 'English_Score']].mean(axis=1)\n",
    "\n",
    "# Question: Who are the highest and lowest performers?\n",
    "best_student = df.loc[df['Average_Score'].idxmax()]\n",
    "struggling_student = df.loc[df['Average_Score'].idxmin()]\n",
    "\n",
    "print(\"Highest Performer:\")\n",
    "print(f\"{best_student['Name']} (Grade {best_student['Grade']}): {best_student['Average_Score']:.1f} average\")\n",
    "print(f\"Studies {best_student['Hours_Studied']} hours/week\")\n",
    "\n",
    "print(\"\\nNeeds More Support:\")\n",
    "print(f\"{struggling_student['Name']} (Grade {struggling_student['Grade']}): {struggling_student['Average_Score']:.1f} average\")\n",
    "print(f\"Studies {struggling_student['Hours_Studied']} hours/week\")"
   ]
  },
  {
   "cell_type": "code",
   "execution_count": null,
   "id": "647e3e43",
   "metadata": {},
   "outputs": [],
   "source": [
    "# Question: Is there a \"sweet spot\" for extracurricular activities?\n",
    "print(\"Extracurriculars vs Performance:\")\n",
    "activity_performance = df.groupby('Extracurriculars')['Average_Score'].mean()\n",
    "for activities, avg_score in activity_performance.items():\n",
    "    print(f\"{activities} activities: {avg_score:.1f} average score\")"
   ]
  },
  {
   "cell_type": "markdown",
   "id": "5e99eca9",
   "metadata": {},
   "source": [
    "## Identifying Data Quality Issues\n",
    "\n",
    "Part of exploration is checking if our data makes sense:"
   ]
  },
  {
   "cell_type": "code",
   "execution_count": null,
   "id": "c17c5491",
   "metadata": {},
   "outputs": [],
   "source": [
    "# Check for outliers (unusually high or low values)\n",
    "print(\"Checking for Unusual Values:\")\n",
    "\n",
    "# Are any scores impossible? (over 100 or under 0)\n",
    "for subject in ['Math_Score', 'Science_Score', 'English_Score']:\n",
    "    max_score = df[subject].max()\n",
    "    min_score = df[subject].min()\n",
    "    print(f\"{subject}: Range {min_score} to {max_score}\")\n",
    "    if max_score > 100 or min_score < 0:\n",
    "        print(f\"  ⚠️  Warning: Unusual scores in {subject}\")\n",
    "\n",
    "# Are study hours realistic?\n",
    "max_hours = df['Hours_Studied'].max()\n",
    "if max_hours > 20:\n",
    "    print(f\"⚠️  Warning: {max_hours} study hours per week seems very high\")\n",
    "else:\n",
    "    print(f\"✓ Study hours look reasonable (max: {max_hours} hours/week)\")"
   ]
  },
  {
   "cell_type": "markdown",
   "id": "542ba7f8",
   "metadata": {},
   "source": [
    "## Generating New Questions from Exploration\n",
    "\n",
    "Based on what we've discovered, we can ask deeper questions:"
   ]
  },
  {
   "cell_type": "code",
   "execution_count": null,
   "id": "11f0c30b",
   "metadata": {},
   "outputs": [],
   "source": [
    "# New insights lead to new questions\n",
    "print(\"New Questions to Investigate:\")\n",
    "print(\"\\n1. Effect of Study Time:\")\n",
    "high_study = df[df['Hours_Studied'] >= 7]['Average_Score'].mean()\n",
    "low_study = df[df['Hours_Studied'] < 7]['Average_Score'].mean()\n",
    "print(f\"   High study time (7+ hours): {high_study:.1f} average\")\n",
    "print(f\"   Low study time (<7 hours): {low_study:.1f} average\")\n",
    "print(f\"   Difference: {high_study - low_study:.1f} points\")"
   ]
  },
  {
   "cell_type": "code",
   "execution_count": null,
   "id": "f226874d",
   "metadata": {},
   "outputs": [],
   "source": [
    "print(\"2. Grade Level Performance:\")\n",
    "grade_12_avg = df[df['Grade'] == '12th']['Average_Score'].mean()\n",
    "grade_10_avg = df[df['Grade'] == '10th']['Average_Score'].mean()\n",
    "print(f\"   12th grade average: {grade_12_avg:.1f}\")\n",
    "print(f\"   10th grade average: {grade_10_avg:.1f}\")\n",
    "print(f\"   Improvement from 10th to 12th: {grade_12_avg - grade_10_avg:.1f} points\")"
   ]
  },
  {
   "cell_type": "markdown",
   "id": "322c10f2",
   "metadata": {},
   "source": [
    "## Creating a Data Summary Report\n",
    "\n",
    "Let's create a simple report of what we learned:"
   ]
  },
  {
   "cell_type": "code",
   "execution_count": null,
   "id": "f52231f0",
   "metadata": {},
   "outputs": [],
   "source": [
    "print(\"=\" * 50)\n",
    "print(\"STUDENT PERFORMANCE ANALYSIS REPORT\")\n",
    "print(\"=\" * 50)\n",
    "\n",
    "print(f\"\\nDataset Overview:\")\n",
    "print(f\"• Total students: {len(df)}\")\n",
    "print(f\"• Grade levels: {', '.join(sorted(df['Grade'].unique()))}\")\n",
    "print(f\"• Subjects analyzed: Math, Science, English\")\n",
    "\n",
    "print(f\"\\nKey Findings:\")\n",
    "print(f\"• Best subject overall: English ({df['English_Score'].mean():.1f} average)\")\n",
    "print(f\"• Most challenging subject: Math ({df['Math_Score'].mean():.1f} average)\")\n",
    "print(f\"• Study time range: {df['Hours_Studied'].min()}-{df['Hours_Studied'].max()} hours per week\")\n",
    "\n",
    "print(f\"\\nInteresting Patterns:\")\n",
    "correlation = df['Hours_Studied'].corr(df['Average_Score'])\n",
    "if correlation > 0.5:\n",
    "    print(f\"• Strong positive link between study time and performance\")\n",
    "elif correlation > 0:\n",
    "    print(f\"• Weak positive link between study time and performance\")\n",
    "else:\n",
    "    print(f\"• No clear link between study time and performance\")\n",
    "\n",
    "print(f\"\\nQuestions for Further Investigation:\")\n",
    "print(f\"• Why do some students perform well with less study time?\")\n",
    "print(f\"• What teaching methods work best for different subjects?\")\n",
    "print(f\"• How do extracurricular activities affect academic performance?\")"
   ]
  },
  {
   "cell_type": "markdown",
   "id": "855bac11",
   "metadata": {},
   "source": [
    "## Key Learning Points\n",
    "\n",
    "1. **Start with simple questions** before moving to complex ones\n",
    "2. **Look for patterns and outliers** - they often tell interesting stories\n",
    "3. **Always check if your data makes sense** - impossible values indicate problems\n",
    "4. **Group and compare** different segments of your data\n",
    "5. **New discoveries lead to new questions** - that's the beauty of data exploration!"
   ]
  },
  {
   "cell_type": "markdown",
   "id": "b8aa476e",
   "metadata": {},
   "source": [
    "## Practice Exercises\n",
    "\n",
    "Try these exercises to practice your data exploration skills:"
   ]
  },
  {
   "cell_type": "code",
   "execution_count": null,
   "id": "ed8d49dc",
   "metadata": {},
   "outputs": [],
   "source": [
    "# Exercise 1: Create Your Own Analysis\n",
    "# Using the movie dataset from last lesson, explore:\n",
    "# - What's the average rating by decade?\n",
    "# - Which genres are most common?\n",
    "# - Are newer movies rated higher or lower?\n",
    "\n",
    "# First, let's recreate the movie dataset:\n",
    "movies_data = {\n",
    "    'Title': ['The Matrix', 'Inception', 'Parasite', 'Toy Story', 'Pulp Fiction', 'The Dark Knight'],\n",
    "    'Year': [1999, 2010, 2019, 1995, 1994, 2008],\n",
    "    'Genre': ['Sci-Fi', 'Sci-Fi', 'Thriller', 'Animation', 'Crime', 'Action'],\n",
    "    'Rating': [8.7, 8.8, 8.6, 8.3, 8.9, 9.0],\n",
    "    'Duration': [136, 148, 132, 81, 154, 152]\n",
    "}\n",
    "\n",
    "movies_df = pd.DataFrame(movies_data)\n",
    "print(\"Movie Dataset:\")\n",
    "print(movies_df)\n",
    "\n",
    "# Your analysis code here..."
   ]
  },
  {
   "cell_type": "code",
   "execution_count": null,
   "id": "1d9b1584",
   "metadata": {},
   "outputs": [],
   "source": [
    "# Exercise 2: Generate Questions\n",
    "# Look at your movie data and write down 5 questions you could answer\n",
    "# Try asking questions about:\n",
    "# - Ratings and years\n",
    "# - Duration and genre\n",
    "# - Patterns over time\n",
    "\n",
    "# Write your questions as comments and then answer them with code!"
   ]
  },
  {
   "cell_type": "code",
   "execution_count": null,
   "id": "61a67111",
   "metadata": {},
   "outputs": [],
   "source": [
    "# Exercise 3: Find Patterns\n",
    "# Group your movies by genre and compare their ratings\n",
    "\n",
    "# Your code here..."
   ]
  },
  {
   "cell_type": "code",
   "execution_count": null,
   "id": "0240f4e4",
   "metadata": {},
   "outputs": [],
   "source": [
    "# Exercise 4: Quality Check\n",
    "# Look for any unusual values in your movie dataset\n",
    "# Check if ratings are between 0-10, years make sense, etc.\n",
    "\n",
    "# Your code here..."
   ]
  },
  {
   "cell_type": "markdown",
   "id": "caa5e62a",
   "metadata": {},
   "source": [
    "## What's Next?\n",
    "\n",
    "Now that we know how to explore data and ask good questions, we're ready to create our first visualizations! In the next lesson, we'll learn how to make charts and graphs that help us see patterns more clearly.\n",
    "\n",
    "**Next: [Creating Your First Data Visualizations](/data-analytics-03-basic-plots/)**"
   ]
  }
 ],
 "metadata": {
  "language_info": {
   "name": "python"
  }
 },
 "nbformat": 4,
 "nbformat_minor": 5
}
