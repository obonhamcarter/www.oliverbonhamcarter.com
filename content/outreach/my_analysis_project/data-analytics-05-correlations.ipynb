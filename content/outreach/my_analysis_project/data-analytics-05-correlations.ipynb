{
 "cells": [
  {
   "cell_type": "markdown",
   "id": "61c7ac61",
   "metadata": {},
   "source": [
    "# Lesson 5: Discovering Relationships with Correlations\n",
    "\n",
    "## Finding Hidden Connections in Your Data\n",
    "\n",
    "Correlation helps us discover if two things tend to change together. Do students who study more get better grades? Are older students better at math? Today we'll learn how to find these hidden relationships in our data!"
   ]
  },
  {
   "cell_type": "markdown",
   "id": "f8b6ec89",
   "metadata": {},
   "source": [
    "## Learning Goals\n",
    "\n",
    "By the end of this lesson, you will be able to:\n",
    "- Calculate and interpret correlation coefficients\n",
    "- Create and read correlation matrices\n",
    "- Visualize relationships with scatter plots and heatmaps\n",
    "- Understand the difference between correlation and causation\n",
    "- Tell compelling stories with correlation analysis"
   ]
  },
  {
   "cell_type": "markdown",
   "id": "e660728c",
   "metadata": {},
   "source": [
    "## Setting Up Our Enhanced Dataset\n",
    "\n",
    "Let's expand our student dataset with more variables to explore relationships:"
   ]
  },
  {
   "cell_type": "code",
   "execution_count": null,
   "id": "0ec0dd15",
   "metadata": {},
   "outputs": [],
   "source": [
    "# Install required packages for data analytics\n",
    "import piplite\n",
    "await piplite.install(['seaborn', 'matplotlib', 'pandas', 'numpy', 'scipy', 'plotly'])\n",
    "print(\"Packages installed successfully!\")\n",
    "print(\"You can now import and use: seaborn, matplotlib, pandas, numpy, scipy, plotly\")\n"
   ]
  },
  {
   "cell_type": "code",
   "execution_count": null,
   "id": "8eaff3b5",
   "metadata": {},
   "outputs": [],
   "source": [
    "import pandas as pd\n",
    "import numpy as np\n",
    "import matplotlib.pyplot as plt\n",
    "import seaborn as sns\n",
    "\n",
    "# Enhanced student dataset with more variables for correlation analysis\n",
    "student_data = {\n",
    "    'Name': ['Alice', 'Bob', 'Charlie', 'Diana', 'Eva', 'Frank', 'Grace', 'Henry'],\n",
    "    'Age': [16, 17, 16, 18, 17, 16, 17, 18],\n",
    "    'Grade': ['10th', '11th', '10th', '12th', '11th', '10th', '11th', '12th'],\n",
    "    'Math_Score': [85, 92, 78, 95, 88, 76, 91, 87],\n",
    "    'Science_Score': [89, 87, 82, 98, 85, 79, 93, 89],\n",
    "    'English_Score': [92, 85, 88, 91, 94, 83, 89, 86],\n",
    "    'Hours_Studied': [5, 8, 4, 10, 6, 3, 9, 7],\n",
    "    'Extracurriculars': [2, 1, 3, 2, 4, 1, 2, 3],\n",
    "    'Sleep_Hours': [7, 6, 8, 6, 7, 9, 6, 7],         # New: hours of sleep per night\n",
    "    'Screen_Time': [4, 6, 3, 2, 5, 7, 3, 4],          # New: recreational screen hours per day\n",
    "    'Books_Read': [12, 8, 15, 20, 10, 5, 18, 14]      # New: books read per year\n",
    "}\n",
    "\n",
    "df = pd.DataFrame(student_data)\n",
    "df['Average_Score'] = df[['Math_Score', 'Science_Score', 'English_Score']].mean(axis=1)\n",
    "\n",
    "print(\"Enhanced Student Dataset for Correlation Analysis:\")\n",
    "print(df[['Name', 'Hours_Studied', 'Average_Score', 'Sleep_Hours', 'Screen_Time', 'Books_Read']])"
   ]
  },
  {
   "cell_type": "markdown",
   "id": "2f4c4f30",
   "metadata": {},
   "source": [
    "## Understanding Correlation\n",
    "\n",
    "Correlation measures how strongly two variables are related on a scale from -1 to +1:"
   ]
  },
  {
   "cell_type": "code",
   "execution_count": null,
   "id": "d12e294d",
   "metadata": {},
   "outputs": [],
   "source": [
    "print(\"UNDERSTANDING CORRELATION COEFFICIENTS:\")\n",
    "print(\"┌─────────────────┬────────────────────────────────────┐\")\n",
    "print(\"│ Correlation     │ What it means                      │\")\n",
    "print(\"├─────────────────┼────────────────────────────────────┤\")\n",
    "print(\"│ +1.0            │ Perfect positive relationship      │\")\n",
    "print(\"│ +0.7 to +0.9    │ Strong positive relationship       │\")\n",
    "print(\"│ +0.3 to +0.7    │ Moderate positive relationship     │\") \n",
    "print(\"│ +0.1 to +0.3    │ Weak positive relationship         │\")\n",
    "print(\"│ 0.0             │ No relationship                    │\")\n",
    "print(\"│ -0.1 to -0.3    │ Weak negative relationship         │\")\n",
    "print(\"│ -0.3 to -0.7    │ Moderate negative relationship     │\")\n",
    "print(\"│ -0.7 to -0.9    │ Strong negative relationship       │\")\n",
    "print(\"│ -1.0            │ Perfect negative relationship      │\")\n",
    "print(\"└─────────────────┴────────────────────────────────────┘\")\n",
    "\n",
    "print(\"\\nPositive correlation: As one goes up, the other goes up\")\n",
    "print(\"Negative correlation: As one goes up, the other goes down\")\n",
    "print(\"No correlation: The variables are independent of each other\")"
   ]
  },
  {
   "cell_type": "markdown",
   "id": "e1d3af6d",
   "metadata": {},
   "source": [
    "## 1. Single Correlation Analysis\n",
    "\n",
    "Let's start by examining specific relationships:"
   ]
  },
  {
   "cell_type": "code",
   "execution_count": null,
   "id": "b451ceeb",
   "metadata": {},
   "outputs": [],
   "source": [
    "# Do students who study more get better grades?\n",
    "study_grade_corr = df['Hours_Studied'].corr(df['Average_Score'])\n",
    "\n",
    "print(\"RELATIONSHIP: Study Hours vs. Average Score\")\n",
    "print(f\"Correlation coefficient: {study_grade_corr:.3f}\")\n",
    "\n",
    "# Interpret the correlation\n",
    "if study_grade_corr > 0.7:\n",
    "    interpretation = \"Strong positive - More study time strongly linked to better grades!\"\n",
    "elif study_grade_corr > 0.3:\n",
    "    interpretation = \"Moderate positive - More study time somewhat linked to better grades\"\n",
    "elif study_grade_corr > 0.1:\n",
    "    interpretation = \"Weak positive - Slight tendency for more study to help grades\"\n",
    "elif study_grade_corr > -0.1:\n",
    "    interpretation = \"No clear relationship between study time and grades\"\n",
    "else:\n",
    "    interpretation = \"Negative relationship - This would be surprising!\"\n",
    "\n",
    "print(f\"Interpretation: {interpretation}\")\n",
    "\n",
    "# Let's see the data points\n",
    "print(f\"\\nData points:\")\n",
    "for _, student in df.iterrows():\n",
    "    print(f\"{student['Name']}: {student['Hours_Studied']} hours → {student['Average_Score']:.1f} avg score\")"
   ]
  },
  {
   "cell_type": "code",
   "execution_count": null,
   "id": "ebf17820",
   "metadata": {},
   "outputs": [],
   "source": [
    "# Visualize this relationship\n",
    "plt.figure(figsize=(10, 6))\n",
    "plt.scatter(df['Hours_Studied'], df['Average_Score'], s=100, alpha=0.7, color='blue')\n",
    "\n",
    "# Add names to each point\n",
    "for _, student in df.iterrows():\n",
    "    plt.annotate(student['Name'], \n",
    "                (student['Hours_Studied'], student['Average_Score']),\n",
    "                xytext=(5, 5), textcoords='offset points', fontsize=9)\n",
    "\n",
    "# Add a trend line\n",
    "z = np.polyfit(df['Hours_Studied'], df['Average_Score'], 1)\n",
    "p = np.poly1d(z)\n",
    "plt.plot(df['Hours_Studied'], p(df['Hours_Studied']), \"r--\", alpha=0.8, linewidth=2)\n",
    "\n",
    "plt.title(f'Study Hours vs. Average Score\\n(Correlation: {study_grade_corr:.3f})', \n",
    "          fontsize=14, fontweight='bold')\n",
    "plt.xlabel('Hours Studied per Week')\n",
    "plt.ylabel('Average Score')\n",
    "plt.grid(True, alpha=0.3)\n",
    "plt.tight_layout()\n",
    "plt.show()"
   ]
  },
  {
   "cell_type": "markdown",
   "id": "8fb97009",
   "metadata": {},
   "source": [
    "## 2. Multiple Correlations at Once\n",
    "\n",
    "Let's examine several relationships simultaneously:"
   ]
  },
  {
   "cell_type": "code",
   "execution_count": null,
   "id": "fe509e35",
   "metadata": {},
   "outputs": [],
   "source": [
    "# Look at multiple interesting relationships\n",
    "relationships = [\n",
    "    ('Hours_Studied', 'Average_Score', 'Study Time vs Performance'),\n",
    "    ('Sleep_Hours', 'Average_Score', 'Sleep vs Performance'), \n",
    "    ('Screen_Time', 'Average_Score', 'Screen Time vs Performance'),\n",
    "    ('Books_Read', 'English_Score', 'Reading vs English Scores'),\n",
    "    ('Age', 'Average_Score', 'Age vs Performance'),\n",
    "    ('Extracurriculars', 'Average_Score', 'Activities vs Performance')\n",
    "]\n",
    "\n",
    "print(\"MULTIPLE CORRELATION ANALYSIS:\")\n",
    "print(\"=\"*60)\n",
    "\n",
    "for var1, var2, description in relationships:\n",
    "    correlation = df[var1].corr(df[var2])\n",
    "    \n",
    "    # Determine strength\n",
    "    if abs(correlation) > 0.7:\n",
    "        strength = \"STRONG\"\n",
    "    elif abs(correlation) > 0.3:\n",
    "        strength = \"MODERATE\"\n",
    "    elif abs(correlation) > 0.1:\n",
    "        strength = \"WEAK\"\n",
    "    else:\n",
    "        strength = \"NONE\"\n",
    "    \n",
    "    # Determine direction\n",
    "    direction = \"POSITIVE\" if correlation > 0 else \"NEGATIVE\" if correlation < 0 else \"NONE\"\n",
    "    \n",
    "    print(f\"\\n{description}:\")\n",
    "    print(f\"  Correlation: {correlation:.3f}\")\n",
    "    print(f\"  Strength: {strength}\")\n",
    "    print(f\"  Direction: {direction}\")\n",
    "    \n",
    "    # Explain what this means\n",
    "    if strength != \"NONE\":\n",
    "        if direction == \"POSITIVE\":\n",
    "            print(f\"  Meaning: Higher {var1.replace('_', ' ').lower()} tends to mean higher {var2.replace('_', ' ').lower()}\")\n",
    "        else:\n",
    "            print(f\"  Meaning: Higher {var1.replace('_', ' ').lower()} tends to mean lower {var2.replace('_', ' ').lower()}\")"
   ]
  },
  {
   "cell_type": "markdown",
   "id": "45f43d37",
   "metadata": {},
   "source": [
    "## 3. Correlation Matrix - See All Relationships at Once\n",
    "\n",
    "A correlation matrix shows the correlation between every pair of variables:"
   ]
  },
  {
   "cell_type": "code",
   "execution_count": null,
   "id": "7952d6fc",
   "metadata": {},
   "outputs": [],
   "source": [
    "# Create a correlation matrix for all numeric variables\n",
    "numeric_columns = ['Age', 'Math_Score', 'Science_Score', 'English_Score', \n",
    "                  'Hours_Studied', 'Extracurriculars', 'Sleep_Hours', \n",
    "                  'Screen_Time', 'Books_Read', 'Average_Score']\n",
    "\n",
    "correlation_matrix = df[numeric_columns].corr()\n",
    "\n",
    "print(\"CORRELATION MATRIX:\")\n",
    "print(\"(Each number shows correlation between row and column variables)\")\n",
    "print(correlation_matrix.round(3))"
   ]
  },
  {
   "cell_type": "code",
   "execution_count": null,
   "id": "b6b728a2",
   "metadata": {},
   "outputs": [],
   "source": [
    "# Create a heatmap to visualize the correlation matrix\n",
    "plt.figure(figsize=(12, 10))\n",
    "mask = np.triu(np.ones_like(correlation_matrix))  # Hide upper triangle (it's redundant)\n",
    "\n",
    "# Create the heatmap\n",
    "sns.heatmap(correlation_matrix, \n",
    "            annot=True,          # Show correlation numbers\n",
    "            cmap='RdBu_r',       # Red-Blue color scheme\n",
    "            center=0,            # Center the color map at 0\n",
    "            mask=mask,           # Apply the mask\n",
    "            square=True,         # Make cells square\n",
    "            fmt='.2f',           # Format numbers to 2 decimal places\n",
    "            cbar_kws={'label': 'Correlation Coefficient'})\n",
    "\n",
    "plt.title('Student Data Correlation Matrix', fontsize=16, fontweight='bold', pad=20)\n",
    "plt.tight_layout()\n",
    "plt.show()"
   ]
  },
  {
   "cell_type": "code",
   "execution_count": null,
   "id": "db4e8ca3",
   "metadata": {},
   "outputs": [],
   "source": [
    "# Find the strongest correlations\n",
    "print(\"STRONGEST CORRELATIONS (excluding perfect self-correlations):\")\n",
    "# Get correlations and remove self-correlations (diagonal)\n",
    "corr_pairs = []\n",
    "for i in range(len(correlation_matrix.columns)):\n",
    "    for j in range(i+1, len(correlation_matrix.columns)):\n",
    "        var1 = correlation_matrix.columns[i]\n",
    "        var2 = correlation_matrix.columns[j]\n",
    "        corr_val = correlation_matrix.iloc[i, j]\n",
    "        corr_pairs.append((abs(corr_val), var1, var2, corr_val))\n",
    "\n",
    "# Sort by absolute correlation value\n",
    "corr_pairs.sort(reverse=True)\n",
    "\n",
    "for abs_corr, var1, var2, corr in corr_pairs[:5]:  # Top 5 correlations\n",
    "    print(f\"{var1} ↔ {var2}: {corr:.3f}\")"
   ]
  },
  {
   "cell_type": "markdown",
   "id": "0230a8bb",
   "metadata": {},
   "source": [
    "## 4. Subject-Specific Correlations\n",
    "\n",
    "Let's see how different subjects relate to other factors:"
   ]
  },
  {
   "cell_type": "code",
   "execution_count": null,
   "id": "2e82c835",
   "metadata": {},
   "outputs": [],
   "source": [
    "# Analyze correlations for each subject separately\n",
    "subjects = ['Math_Score', 'Science_Score', 'English_Score']\n",
    "factors = ['Hours_Studied', 'Sleep_Hours', 'Screen_Time', 'Books_Read', 'Age', 'Extracurriculars']\n",
    "\n",
    "print(\"SUBJECT-SPECIFIC CORRELATION ANALYSIS:\")\n",
    "print(\"=\"*50)\n",
    "\n",
    "for subject in subjects:\n",
    "    subject_name = subject.replace('_Score', '')\n",
    "    print(f\"\\n{subject_name.upper()} CORRELATIONS:\")\n",
    "    \n",
    "    subject_correlations = []\n",
    "    for factor in factors:\n",
    "        corr = df[factor].corr(df[subject])\n",
    "        subject_correlations.append((abs(corr), factor, corr))\n",
    "    \n",
    "    # Sort by absolute correlation strength\n",
    "    subject_correlations.sort(reverse=True)\n",
    "    \n",
    "    for abs_corr, factor, corr in subject_correlations:\n",
    "        factor_name = factor.replace('_', ' ').title()\n",
    "        strength = \"Strong\" if abs_corr > 0.7 else \"Moderate\" if abs_corr > 0.3 else \"Weak\" if abs_corr > 0.1 else \"None\"\n",
    "        direction = \"↗\" if corr > 0 else \"↘\" if corr < 0 else \"→\"\n",
    "        print(f\"  {factor_name:15} {direction} {corr:6.3f} ({strength})\")"
   ]
  },
  {
   "cell_type": "markdown",
   "id": "b9ced732",
   "metadata": {},
   "source": [
    "## 5. Correlation vs. Causation Warning\n",
    "\n",
    "This is crucial to understand:"
   ]
  },
  {
   "cell_type": "code",
   "execution_count": null,
   "id": "b1f0bf92",
   "metadata": {},
   "outputs": [],
   "source": [
    "print(\"⚠️  IMPORTANT: CORRELATION ≠ CAUSATION ⚠️\")\n",
    "print(\"=\"*50)\n",
    "print()\n",
    "print(\"Just because two things are correlated doesn't mean one CAUSES the other!\")\n",
    "print()\n",
    "print(\"Examples from our data:\")\n",
    "\n",
    "# Find a strong correlation\n",
    "books_english_corr = df['Books_Read'].corr(df['English_Score'])\n",
    "print(f\"Books Read ↔ English Score: {books_english_corr:.3f}\")\n",
    "print()\n",
    "print(\"Possible explanations:\")\n",
    "print(\"1. 📚 Reading more books improves English skills (books → English)\")\n",
    "print(\"2. 🎓 Students good at English enjoy reading more (English → books)\")  \n",
    "print(\"3. 👨‍👩‍👧‍👦 Family values education (causes both reading AND good English)\")\n",
    "print(\"4. 💰 Family income affects both book access AND tutoring\")\n",
    "print()\n",
    "\n",
    "print(\"How to think about correlation:\")\n",
    "print(\"• Correlation suggests a relationship exists\")\n",
    "print(\"• It helps us ask better questions\")  \n",
    "print(\"• We need experiments or more data to prove causation\")\n",
    "print(\"• Always consider alternative explanations\")\n",
    "\n",
    "# Show a surprising correlation\n",
    "screen_performance_corr = df['Screen_Time'].corr(df['Average_Score'])\n",
    "print(f\"\\nSurprising finding:\")\n",
    "print(f\"Screen Time ↔ Average Score: {screen_performance_corr:.3f}\")\n",
    "\n",
    "if screen_performance_corr < -0.3:\n",
    "    print(\"This suggests students with more screen time have lower grades.\")\n",
    "    print(\"But remember: correlation ≠ causation!\")\n",
    "    print(\"Maybe students who struggle academically use screens to relax?\")\n",
    "    print(\"Or maybe high achievers have less free time for screens?\")"
   ]
  },
  {
   "cell_type": "markdown",
   "id": "755569f0",
   "metadata": {},
   "source": [
    "## 6. Creating a Correlation Story\n",
    "\n",
    "Let's create a narrative about our findings:"
   ]
  },
  {
   "cell_type": "code",
   "execution_count": null,
   "id": "a70ba370",
   "metadata": {},
   "outputs": [],
   "source": [
    "# Create subplots showing our key correlations\n",
    "fig, axes = plt.subplots(2, 2, figsize=(15, 12))\n",
    "fig.suptitle('Key Correlation Findings', fontsize=16, fontweight='bold')\n",
    "\n",
    "# 1. Study Hours vs Performance\n",
    "axes[0, 0].scatter(df['Hours_Studied'], df['Average_Score'], color='blue', s=100, alpha=0.7)\n",
    "z1 = np.polyfit(df['Hours_Studied'], df['Average_Score'], 1)\n",
    "p1 = np.poly1d(z1)\n",
    "axes[0, 0].plot(df['Hours_Studied'], p1(df['Hours_Studied']), \"r--\", alpha=0.8)\n",
    "corr1 = df['Hours_Studied'].corr(df['Average_Score'])\n",
    "axes[0, 0].set_title(f'Study Hours vs Performance\\n(r = {corr1:.3f})')\n",
    "axes[0, 0].set_xlabel('Hours Studied')\n",
    "axes[0, 0].set_ylabel('Average Score')\n",
    "\n",
    "# 2. Sleep vs Performance  \n",
    "axes[0, 1].scatter(df['Sleep_Hours'], df['Average_Score'], color='green', s=100, alpha=0.7)\n",
    "z2 = np.polyfit(df['Sleep_Hours'], df['Average_Score'], 1)\n",
    "p2 = np.poly1d(z2)\n",
    "axes[0, 1].plot(df['Sleep_Hours'], p2(df['Sleep_Hours']), \"r--\", alpha=0.8)\n",
    "corr2 = df['Sleep_Hours'].corr(df['Average_Score'])\n",
    "axes[0, 1].set_title(f'Sleep Hours vs Performance\\n(r = {corr2:.3f})')\n",
    "axes[0, 1].set_xlabel('Sleep Hours')\n",
    "axes[0, 1].set_ylabel('Average Score')\n",
    "\n",
    "# 3. Screen Time vs Performance\n",
    "axes[1, 0].scatter(df['Screen_Time'], df['Average_Score'], color='red', s=100, alpha=0.7)\n",
    "z3 = np.polyfit(df['Screen_Time'], df['Average_Score'], 1)\n",
    "p3 = np.poly1d(z3)\n",
    "axes[1, 0].plot(df['Screen_Time'], p3(df['Screen_Time']), \"r--\", alpha=0.8)\n",
    "corr3 = df['Screen_Time'].corr(df['Average_Score'])\n",
    "axes[1, 0].set_title(f'Screen Time vs Performance\\n(r = {corr3:.3f})')\n",
    "axes[1, 0].set_xlabel('Screen Hours')\n",
    "axes[1, 0].set_ylabel('Average Score')\n",
    "\n",
    "# 4. Books vs English\n",
    "axes[1, 1].scatter(df['Books_Read'], df['English_Score'], color='purple', s=100, alpha=0.7)\n",
    "z4 = np.polyfit(df['Books_Read'], df['English_Score'], 1)\n",
    "p4 = np.poly1d(z4)\n",
    "axes[1, 1].plot(df['Books_Read'], p4(df['Books_Read']), \"r--\", alpha=0.8)\n",
    "corr4 = df['Books_Read'].corr(df['English_Score'])\n",
    "axes[1, 1].set_title(f'Books Read vs English Score\\n(r = {corr4:.3f})')\n",
    "axes[1, 1].set_xlabel('Books per Year')\n",
    "axes[1, 1].set_ylabel('English Score')\n",
    "\n",
    "plt.tight_layout()\n",
    "plt.show()"
   ]
  },
  {
   "cell_type": "code",
   "execution_count": null,
   "id": "c47c4d4d",
   "metadata": {},
   "outputs": [],
   "source": [
    "# Summary of findings\n",
    "print(\"CORRELATION STORY SUMMARY:\")\n",
    "print(\"=\"*40)\n",
    "strongest_corr = max([abs(corr1), abs(corr2), abs(corr3), abs(corr4)])\n",
    "if strongest_corr == abs(corr1):\n",
    "    strongest_relationship = \"study time and performance\"\n",
    "elif strongest_corr == abs(corr2):\n",
    "    strongest_relationship = \"sleep and performance\"\n",
    "elif strongest_corr == abs(corr3):\n",
    "    strongest_relationship = \"screen time and performance\"  \n",
    "else:\n",
    "    strongest_relationship = \"reading and English scores\"\n",
    "\n",
    "print(f\"Strongest relationship: {strongest_relationship}\")\n",
    "print(f\"This tells us where to focus for improving student outcomes.\")"
   ]
  },
  {
   "cell_type": "markdown",
   "id": "e14130af",
   "metadata": {},
   "source": [
    "## Key Learning Points\n",
    "\n",
    "1. **Correlation measures relationship strength** from -1 to +1\n",
    "2. **Positive correlation**: Both variables increase together\n",
    "3. **Negative correlation**: One increases as the other decreases\n",
    "4. **Correlation matrices** show all relationships at once\n",
    "5. **Correlation ≠ Causation** - always consider alternative explanations\n",
    "6. **Strong correlations** (>0.7 or <-0.7) suggest important relationships worth investigating"
   ]
  },
  {
   "cell_type": "markdown",
   "id": "d71e316c",
   "metadata": {},
   "source": [
    "## Practice Exercises\n",
    "\n",
    "Try these exercises to practice your correlation analysis skills:"
   ]
  },
  {
   "cell_type": "code",
   "execution_count": null,
   "id": "fa26962d",
   "metadata": {},
   "outputs": [],
   "source": [
    "# Exercise 1: Movie Data Correlations\n",
    "# Analyze your movie dataset:\n",
    "\n",
    "# First, let's create an extended movie dataset:\n",
    "movies_data = {\n",
    "    'Title': ['The Matrix', 'Inception', 'Parasite', 'Toy Story', 'Pulp Fiction', 'The Dark Knight'],\n",
    "    'Year': [1999, 2010, 2019, 1995, 1994, 2008],\n",
    "    'Genre': ['Sci-Fi', 'Sci-Fi', 'Thriller', 'Animation', 'Crime', 'Action'],\n",
    "    'Rating': [8.7, 8.8, 8.6, 8.3, 8.9, 9.0],\n",
    "    'Duration': [136, 148, 132, 81, 154, 152],\n",
    "    'Budget': [63, 160, 11, 30, 8, 185],  # Budget in millions\n",
    "    'BoxOffice': [467, 829, 258, 373, 214, 1005]  # Box office in millions\n",
    "}\n",
    "\n",
    "movies_df = pd.DataFrame(movies_data)\n",
    "print(\"Extended Movie Dataset:\")\n",
    "print(movies_df)\n",
    "\n",
    "# Answer these questions:\n",
    "# - Do newer movies have higher ratings?\n",
    "# - Is there a relationship between movie length and rating?\n",
    "# - Does budget correlate with box office success?\n",
    "# - Create a correlation matrix for all numeric variables\n",
    "\n",
    "# Your code here..."
   ]
  },
  {
   "cell_type": "code",
   "execution_count": null,
   "id": "3e5d3dca",
   "metadata": {},
   "outputs": [],
   "source": [
    "# Exercise 2: Find Surprising Correlations\n",
    "# Look for unexpected relationships in your data\n",
    "# What correlations surprised you? Why might they exist?\n",
    "\n",
    "# Your code here..."
   ]
  },
  {
   "cell_type": "code",
   "execution_count": null,
   "id": "b4fee2cb",
   "metadata": {},
   "outputs": [],
   "source": [
    "# Exercise 3: Interpret Results\n",
    "# Practice explaining what correlations mean in plain English\n",
    "# Write explanations for both positive and negative correlations you find\n",
    "\n",
    "# Your code here..."
   ]
  },
  {
   "cell_type": "code",
   "execution_count": null,
   "id": "9309c254",
   "metadata": {},
   "outputs": [],
   "source": [
    "# Exercise 4: Visualize Relationships\n",
    "# Create scatter plots for your strongest correlations\n",
    "# Add trend lines and annotations\n",
    "\n",
    "# Your code here..."
   ]
  },
  {
   "cell_type": "markdown",
   "id": "c2075ea5",
   "metadata": {},
   "source": [
    "## What's Next?\n",
    "\n",
    "Now that we can find relationships in our data, we're ready to create more advanced visualizations and dive into statistical significance testing! In the next lesson, we'll explore advanced plotting techniques and learn about p-values and t-tests.\n",
    "\n",
    "**Next: [Advanced Analysis: P-values, T-tests, and Linear Regression](/data-analytics-06-advanced-analysis/)**"
   ]
  }
 ],
 "metadata": {
  "language_info": {
   "name": "python"
  }
 },
 "nbformat": 4,
 "nbformat_minor": 5
}
