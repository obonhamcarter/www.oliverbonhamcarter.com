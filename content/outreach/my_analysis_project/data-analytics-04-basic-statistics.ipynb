{
 "cells": [
  {
   "cell_type": "markdown",
   "id": "ebafb0c9",
   "metadata": {},
   "source": [
    "# Lesson 4: Understanding Basic Statistics and Summaries\n",
    "\n",
    "## Making Sense of Numbers with Statistics\n",
    "\n",
    "Statistics help us summarize our data with just a few key numbers. Think of statistics as a way to describe a whole group with simple, powerful facts. Today we'll learn the most important statistical measures that every data analyst needs to know!"
   ]
  },
  {
   "cell_type": "markdown",
   "id": "06f2155e",
   "metadata": {},
   "source": [
    "## Learning Goals\n",
    "\n",
    "By the end of this lesson, you will be able to:\n",
    "- Calculate and interpret measures of central tendency (mean, median, mode)\n",
    "- Understand measures of spread (range, standard deviation, quartiles)\n",
    "- Create comprehensive statistical summaries\n",
    "- Compare statistics across different groups\n",
    "- Visualize statistical measures effectively"
   ]
  },
  {
   "cell_type": "markdown",
   "id": "bae46593",
   "metadata": {},
   "source": [
    "## Setting Up Our Data\n",
    "\n",
    "Let's use our familiar student dataset and add some new information:"
   ]
  },
  {
   "cell_type": "code",
   "execution_count": null,
   "id": "844b0e33",
   "metadata": {},
   "outputs": [],
   "source": [
    "# Install required packages for data analytics\n",
    "import piplite\n",
    "await piplite.install(['seaborn', 'matplotlib', 'pandas', 'numpy', 'scipy', 'plotly'])\n",
    "print(\"Packages installed successfully!\")\n",
    "print(\"You can now import and use: seaborn, matplotlib, pandas, numpy, scipy, plotly\")"
   ]
  },
  {
   "cell_type": "code",
   "execution_count": null,
   "id": "ff040003",
   "metadata": {},
   "outputs": [],
   "source": [
    "import pandas as pd\n",
    "import numpy as np\n",
    "import matplotlib.pyplot as plt\n",
    "import seaborn as sns\n",
    "\n",
    "# Our student dataset\n",
    "student_data = {\n",
    "    'Name': ['Alice', 'Bob', 'Charlie', 'Diana', 'Eva', 'Frank', 'Grace', 'Henry'],\n",
    "    'Age': [16, 17, 16, 18, 17, 16, 17, 18],\n",
    "    'Grade': ['10th', '11th', '10th', '12th', '11th', '10th', '11th', '12th'],\n",
    "    'Math_Score': [85, 92, 78, 95, 88, 76, 91, 87],\n",
    "    'Science_Score': [89, 87, 82, 98, 85, 79, 93, 89],\n",
    "    'English_Score': [92, 85, 88, 91, 94, 83, 89, 86],\n",
    "    'Hours_Studied': [5, 8, 4, 10, 6, 3, 9, 7],\n",
    "    'Extracurriculars': [2, 1, 3, 2, 4, 1, 2, 3]\n",
    "}\n",
    "\n",
    "df = pd.DataFrame(student_data)\n",
    "df['Average_Score'] = df[['Math_Score', 'Science_Score', 'English_Score']].mean(axis=1)\n",
    "\n",
    "print(\"Our student data is ready for statistical analysis!\")\n",
    "print(df[['Name', 'Math_Score', 'Science_Score', 'English_Score', 'Average_Score']])"
   ]
  },
  {
   "cell_type": "markdown",
   "id": "19be78e0",
   "metadata": {},
   "source": [
    "## 1. Measures of Central Tendency - \"What's Normal?\"\n",
    "\n",
    "These statistics tell us what a \"typical\" value looks like in our data.\n",
    "\n",
    "### The Mean (Average)\n",
    "\n",
    "The mean is what most people think of as \"average\":"
   ]
  },
  {
   "cell_type": "code",
   "execution_count": null,
   "id": "f9f06d70",
   "metadata": {},
   "outputs": [],
   "source": [
    "# Calculate means for our test scores\n",
    "math_mean = df['Math_Score'].mean()\n",
    "science_mean = df['Science_Score'].mean()\n",
    "english_mean = df['English_Score'].mean()\n",
    "\n",
    "print(\"MEAN SCORES (Averages):\")\n",
    "print(f\"Math: {math_mean:.1f} points\")\n",
    "print(f\"Science: {science_mean:.1f} points\") \n",
    "print(f\"English: {english_mean:.1f} points\")\n",
    "\n",
    "# The mean tells us the \"center\" of our data\n",
    "print(f\"\\nOverall, students average {math_mean:.1f} points in Math.\")\n",
    "print(\"This means if we added all Math scores and divided by 8 students,\")\n",
    "print(f\"we get {math_mean:.1f}.\")\n",
    "\n",
    "# Let's verify this calculation manually\n",
    "total_math_points = df['Math_Score'].sum()\n",
    "number_of_students = len(df)\n",
    "manual_average = total_math_points / number_of_students\n",
    "\n",
    "print(f\"\\nManual calculation: {total_math_points} ÷ {number_of_students} = {manual_average:.1f}\")\n",
    "print(\"✓ This matches our mean calculation!\")"
   ]
  },
  {
   "cell_type": "markdown",
   "id": "4a676ef5",
   "metadata": {},
   "source": [
    "### The Median (Middle Value)\n",
    "\n",
    "The median is the middle value when all scores are lined up in order:"
   ]
  },
  {
   "cell_type": "code",
   "execution_count": null,
   "id": "d4e68870",
   "metadata": {},
   "outputs": [],
   "source": [
    "# Calculate medians\n",
    "math_median = df['Math_Score'].median()\n",
    "science_median = df['Science_Score'].median()\n",
    "english_median = df['English_Score'].median()\n",
    "\n",
    "print(\"MEDIAN SCORES (Middle Values):\")\n",
    "print(f\"Math: {math_median:.1f} points\")\n",
    "print(f\"Science: {science_median:.1f} points\")\n",
    "print(f\"English: {english_median:.1f} points\")\n",
    "\n",
    "# Show how median works with Math scores\n",
    "math_scores_sorted = sorted(df['Math_Score'])\n",
    "print(f\"\\nMath scores in order: {math_scores_sorted}\")\n",
    "print(f\"The middle values are: {math_scores_sorted[3]} and {math_scores_sorted[4]}\")\n",
    "print(f\"Median is their average: ({math_scores_sorted[3]} + {math_scores_sorted[4]}) ÷ 2 = {math_median}\")\n",
    "\n",
    "# Compare mean vs median\n",
    "print(f\"\\nMath - Mean: {math_mean:.1f}, Median: {math_median:.1f}\")\n",
    "if abs(math_mean - math_median) < 1:\n",
    "    print(\"Mean and median are very close - data is fairly balanced!\")\n",
    "else:\n",
    "    print(\"Mean and median are different - might have some extreme values.\")"
   ]
  },
  {
   "cell_type": "markdown",
   "id": "e6d4a9f1",
   "metadata": {},
   "source": [
    "### The Mode (Most Common Value)\n",
    "\n",
    "The mode is the value that appears most often:"
   ]
  },
  {
   "cell_type": "code",
   "execution_count": null,
   "id": "aaaa28bf",
   "metadata": {},
   "outputs": [],
   "source": [
    "# Find modes for our categorical data\n",
    "grade_mode = df['Grade'].mode()[0]  # Most common grade\n",
    "age_mode = df['Age'].mode()[0]      # Most common age\n",
    "\n",
    "print(\"MODE (Most Common Values):\")\n",
    "print(f\"Most common grade level: {grade_mode}\")\n",
    "print(f\"Most common age: {age_mode}\")\n",
    "\n",
    "# Count frequencies to see why\n",
    "print(f\"\\nGrade frequencies:\")\n",
    "print(df['Grade'].value_counts())\n",
    "print(f\"\\nAge frequencies:\")\n",
    "print(df['Age'].value_counts())\n",
    "\n",
    "# For continuous data like test scores, mode is less useful\n",
    "# But let's see if any scores repeat\n",
    "print(f\"\\nDo any Math scores repeat?\")\n",
    "math_counts = df['Math_Score'].value_counts()\n",
    "repeated_scores = math_counts[math_counts > 1]\n",
    "if len(repeated_scores) > 0:\n",
    "    print(\"Yes! These scores appear multiple times:\")\n",
    "    print(repeated_scores)\n",
    "else:\n",
    "    print(\"No, all Math scores are unique.\")"
   ]
  },
  {
   "cell_type": "markdown",
   "id": "fee387c2",
   "metadata": {},
   "source": [
    "## 2. Measures of Spread - \"How Spread Out Are the Values?\"\n",
    "\n",
    "These statistics tell us how much variation there is in our data.\n",
    "\n",
    "### Range (Highest - Lowest)"
   ]
  },
  {
   "cell_type": "code",
   "execution_count": null,
   "id": "7fa900d9",
   "metadata": {},
   "outputs": [],
   "source": [
    "# Calculate ranges\n",
    "math_range = df['Math_Score'].max() - df['Math_Score'].min()\n",
    "science_range = df['Science_Score'].max() - df['Science_Score'].min()\n",
    "english_range = df['English_Score'].max() - df['English_Score'].min()\n",
    "\n",
    "print(\"RANGE (Spread of Scores):\")\n",
    "print(f\"Math: {df['Math_Score'].min()} to {df['Math_Score'].max()} (range: {math_range} points)\")\n",
    "print(f\"Science: {df['Science_Score'].min()} to {df['Science_Score'].max()} (range: {science_range} points)\")\n",
    "print(f\"English: {df['English_Score'].min()} to {df['English_Score'].max()} (range: {english_range} points)\")\n",
    "\n",
    "# Which subject has the most variation?\n",
    "ranges = {'Math': math_range, 'Science': science_range, 'English': english_range}\n",
    "most_varied = max(ranges, key=ranges.get)\n",
    "least_varied = min(ranges, key=ranges.get)\n",
    "\n",
    "print(f\"\\nMost variation: {most_varied} ({ranges[most_varied]} point range)\")\n",
    "print(f\"Least variation: {least_varied} ({ranges[least_varied]} point range)\")"
   ]
  },
  {
   "cell_type": "markdown",
   "id": "19cc4130",
   "metadata": {},
   "source": [
    "### Standard Deviation (Average Distance from Mean)\n",
    "\n",
    "This is the most important measure of spread:"
   ]
  },
  {
   "cell_type": "code",
   "execution_count": null,
   "id": "c55953dc",
   "metadata": {},
   "outputs": [],
   "source": [
    "# Calculate standard deviations\n",
    "math_std = df['Math_Score'].std()\n",
    "science_std = df['Science_Score'].std()\n",
    "english_std = df['English_Score'].std()\n",
    "\n",
    "print(\"STANDARD DEVIATION (Average Distance from Mean):\")\n",
    "print(f\"Math: {math_std:.1f} points\")\n",
    "print(f\"Science: {science_std:.1f} points\")\n",
    "print(f\"English: {english_std:.1f} points\")\n",
    "\n",
    "# Explain what this means\n",
    "print(f\"\\nWhat does this mean?\")\n",
    "print(f\"In Math, most students score within {math_std:.1f} points of the average ({math_mean:.1f})\")\n",
    "print(f\"That means most Math scores are between {math_mean-math_std:.1f} and {math_mean+math_std:.1f}\")\n",
    "\n",
    "# Let's check this prediction\n",
    "math_within_1_std = df[(df['Math_Score'] >= math_mean - math_std) & \n",
    "                      (df['Math_Score'] <= math_mean + math_std)]\n",
    "print(f\"Actually, {len(math_within_1_std)} out of {len(df)} students ({len(math_within_1_std)/len(df)*100:.0f}%) are in this range!\")\n",
    "\n",
    "# Show individual distances from mean\n",
    "print(f\"\\nHow far is each student from the Math average of {math_mean:.1f}?\")\n",
    "for _, student in df.iterrows():\n",
    "    distance = abs(student['Math_Score'] - math_mean)\n",
    "    print(f\"{student['Name']}: {student['Math_Score']} (distance: {distance:.1f})\")"
   ]
  },
  {
   "cell_type": "markdown",
   "id": "eb8b5efd",
   "metadata": {},
   "source": [
    "## 3. Percentiles and Quartiles - \"Where Do You Rank?\"\n",
    "\n",
    "These help us understand where individual values stand compared to the group:"
   ]
  },
  {
   "cell_type": "code",
   "execution_count": null,
   "id": "6114d6dc",
   "metadata": {},
   "outputs": [],
   "source": [
    "# Calculate quartiles (25th, 50th, 75th percentiles)\n",
    "math_q1 = df['Math_Score'].quantile(0.25)  # 25th percentile\n",
    "math_q2 = df['Math_Score'].quantile(0.50)  # 50th percentile (median)\n",
    "math_q3 = df['Math_Score'].quantile(0.75)  # 75th percentile\n",
    "\n",
    "print(\"MATH SCORE QUARTILES:\")\n",
    "print(f\"25th percentile (Q1): {math_q1:.1f} - Bottom 25% score below this\")\n",
    "print(f\"50th percentile (Q2): {math_q2:.1f} - Half score below this (median)\")  \n",
    "print(f\"75th percentile (Q3): {math_q3:.1f} - Top 25% score above this\")\n",
    "\n",
    "# Show where each student ranks\n",
    "print(f\"\\nStudent Rankings in Math:\")\n",
    "for _, student in df.iterrows():\n",
    "    score = student['Math_Score']\n",
    "    percentile = (df['Math_Score'] < score).mean() * 100\n",
    "    \n",
    "    if score >= math_q3:\n",
    "        rank = \"Top Quarter\"\n",
    "    elif score >= math_q2:\n",
    "        rank = \"Above Average\"  \n",
    "    elif score >= math_q1:\n",
    "        rank = \"Below Average\"\n",
    "    else:\n",
    "        rank = \"Bottom Quarter\"\n",
    "        \n",
    "    print(f\"{student['Name']}: {score} points - {rank} ({percentile:.0f}th percentile)\")"
   ]
  },
  {
   "cell_type": "markdown",
   "id": "75ae2ff9",
   "metadata": {},
   "source": [
    "## 4. Creating a Statistical Summary\n",
    "\n",
    "Let's create a comprehensive statistical profile:"
   ]
  },
  {
   "cell_type": "code",
   "execution_count": null,
   "id": "755b9e71",
   "metadata": {},
   "outputs": [],
   "source": [
    "# Generate complete statistical summary\n",
    "print(\"=\"*60)\n",
    "print(\"COMPLETE STATISTICAL SUMMARY\")\n",
    "print(\"=\"*60)\n",
    "\n",
    "subjects = ['Math_Score', 'Science_Score', 'English_Score']\n",
    "for subject in subjects:\n",
    "    subject_name = subject.replace('_', ' ')\n",
    "    print(f\"\\n{subject_name.upper()}:\")\n",
    "    \n",
    "    # Central tendency\n",
    "    mean_val = df[subject].mean()\n",
    "    median_val = df[subject].median()\n",
    "    \n",
    "    # Spread\n",
    "    std_val = df[subject].std()\n",
    "    range_val = df[subject].max() - df[subject].min()\n",
    "    \n",
    "    # Quartiles\n",
    "    q1 = df[subject].quantile(0.25)\n",
    "    q3 = df[subject].quantile(0.75)\n",
    "    iqr = q3 - q1  # Interquartile Range\n",
    "    \n",
    "    print(f\"  Central Tendency:\")\n",
    "    print(f\"    Mean (average): {mean_val:.1f}\")\n",
    "    print(f\"    Median (middle): {median_val:.1f}\")\n",
    "    \n",
    "    print(f\"  Spread:\")\n",
    "    print(f\"    Standard deviation: {std_val:.1f}\")\n",
    "    print(f\"    Range: {range_val:.0f} (from {df[subject].min()} to {df[subject].max()})\")\n",
    "    print(f\"    IQR (middle 50%): {iqr:.1f}\")\n",
    "    \n",
    "    print(f\"  Distribution:\")\n",
    "    print(f\"    25th percentile: {q1:.1f}\")\n",
    "    print(f\"    75th percentile: {q3:.1f}\")"
   ]
  },
  {
   "cell_type": "markdown",
   "id": "769ae244",
   "metadata": {},
   "source": [
    "## 5. Comparing Statistics Across Subjects\n",
    "\n",
    "Let's create a comparison table:"
   ]
  },
  {
   "cell_type": "code",
   "execution_count": null,
   "id": "0784ec0c",
   "metadata": {},
   "outputs": [],
   "source": [
    "# Create a statistical comparison\n",
    "stats_summary = pd.DataFrame({\n",
    "    'Subject': ['Math', 'Science', 'English'],\n",
    "    'Mean': [df['Math_Score'].mean(), df['Science_Score'].mean(), df['English_Score'].mean()],\n",
    "    'Median': [df['Math_Score'].median(), df['Science_Score'].median(), df['English_Score'].median()],\n",
    "    'Std_Dev': [df['Math_Score'].std(), df['Science_Score'].std(), df['English_Score'].std()],\n",
    "    'Range': [df['Math_Score'].max()-df['Math_Score'].min(), \n",
    "             df['Science_Score'].max()-df['Science_Score'].min(),\n",
    "             df['English_Score'].max()-df['English_Score'].min()]\n",
    "})\n",
    "\n",
    "print(\"STATISTICAL COMPARISON TABLE:\")\n",
    "print(stats_summary.round(1))\n",
    "\n",
    "# Find interesting patterns\n",
    "highest_avg = stats_summary.loc[stats_summary['Mean'].idxmax(), 'Subject']\n",
    "most_consistent = stats_summary.loc[stats_summary['Std_Dev'].idxmin(), 'Subject']\n",
    "most_varied = stats_summary.loc[stats_summary['Range'].idxmax(), 'Subject']\n",
    "\n",
    "print(f\"\\nKEY FINDINGS:\")\n",
    "print(f\"• Highest average scores: {highest_avg}\")\n",
    "print(f\"• Most consistent performance: {most_consistent} (lowest std dev)\")\n",
    "print(f\"• Most varied performance: {most_varied} (highest range)\")"
   ]
  },
  {
   "cell_type": "markdown",
   "id": "7c50c063",
   "metadata": {},
   "source": [
    "## 6. Visualizing Statistics\n",
    "\n",
    "Let's create plots that show our statistical measures:"
   ]
  },
  {
   "cell_type": "code",
   "execution_count": null,
   "id": "15103404",
   "metadata": {},
   "outputs": [],
   "source": [
    "# Create a visualization of our statistics\n",
    "fig, axes = plt.subplots(2, 2, figsize=(15, 12))\n",
    "fig.suptitle('Statistical Analysis of Student Performance', fontsize=16, fontweight='bold')\n",
    "\n",
    "# 1. Box plot showing quartiles and outliers\n",
    "subjects_data = [df['Math_Score'], df['Science_Score'], df['English_Score']]\n",
    "box_plot = axes[0, 0].boxplot(subjects_data, labels=['Math', 'Science', 'English'], patch_artist=True)\n",
    "axes[0, 0].set_title('Distribution Summary (Box Plot)')\n",
    "axes[0, 0].set_ylabel('Score')\n",
    "\n",
    "# Color the boxes\n",
    "colors = ['lightblue', 'lightgreen', 'lightcoral']\n",
    "for patch, color in zip(box_plot['boxes'], colors):\n",
    "    patch.set_facecolor(color)\n",
    "\n",
    "# 2. Histogram with mean and median lines\n",
    "axes[0, 1].hist(df['Math_Score'], bins=5, alpha=0.7, color='lightblue', edgecolor='black')\n",
    "axes[0, 1].axvline(df['Math_Score'].mean(), color='red', linestyle='--', linewidth=2, label=f'Mean: {df[\"Math_Score\"].mean():.1f}')\n",
    "axes[0, 1].axvline(df['Math_Score'].median(), color='orange', linestyle='-', linewidth=2, label=f'Median: {df[\"Math_Score\"].median():.1f}')\n",
    "axes[0, 1].set_title('Math Score Distribution')\n",
    "axes[0, 1].set_xlabel('Score')\n",
    "axes[0, 1].set_ylabel('Frequency')\n",
    "axes[0, 1].legend()\n",
    "\n",
    "# 3. Standard deviation visualization\n",
    "subjects = ['Math', 'Science', 'English']\n",
    "means = [df['Math_Score'].mean(), df['Science_Score'].mean(), df['English_Score'].mean()]\n",
    "stds = [df['Math_Score'].std(), df['Science_Score'].std(), df['English_Score'].std()]\n",
    "\n",
    "axes[1, 0].bar(subjects, means, yerr=stds, capsize=5, color=colors, alpha=0.7, edgecolor='black')\n",
    "axes[1, 0].set_title('Mean ± Standard Deviation')\n",
    "axes[1, 0].set_ylabel('Score')\n",
    "\n",
    "# 4. Range comparison\n",
    "ranges = [df['Math_Score'].max()-df['Math_Score'].min(),\n",
    "          df['Science_Score'].max()-df['Science_Score'].min(), \n",
    "          df['English_Score'].max()-df['English_Score'].min()]\n",
    "\n",
    "axes[1, 1].bar(subjects, ranges, color=colors, alpha=0.7, edgecolor='black')\n",
    "axes[1, 1].set_title('Score Range by Subject')\n",
    "axes[1, 1].set_ylabel('Range (Max - Min)')\n",
    "\n",
    "plt.tight_layout()\n",
    "plt.show()"
   ]
  },
  {
   "cell_type": "markdown",
   "id": "31f72791",
   "metadata": {},
   "source": [
    "## Key Learning Points\n",
    "\n",
    "1. **Central Tendency (Typical Values)**:\n",
    "   - Mean: Mathematical average\n",
    "   - Median: Middle value (less affected by extremes)\n",
    "   - Mode: Most common value\n",
    "\n",
    "2. **Spread (Variation)**:\n",
    "   - Range: Difference between highest and lowest\n",
    "   - Standard deviation: Average distance from mean\n",
    "   - Quartiles: Divide data into four equal parts\n",
    "\n",
    "3. **When to Use Which**:\n",
    "   - Use median when you have extreme values (outliers)\n",
    "   - Use mean for normally distributed data\n",
    "   - Use standard deviation to understand consistency\n",
    "\n",
    "4. **Statistics tell stories** - they help us compare and understand our data"
   ]
  },
  {
   "cell_type": "markdown",
   "id": "500e88d1",
   "metadata": {},
   "source": [
    "## Practice Exercises\n",
    "\n",
    "Try these exercises to practice your statistical analysis skills:"
   ]
  },
  {
   "cell_type": "code",
   "execution_count": null,
   "id": "7574949e",
   "metadata": {},
   "outputs": [],
   "source": [
    "# Exercise 1: Analyze Your Movie Data\n",
    "# Calculate mean, median, and standard deviation for movie ratings\n",
    "\n",
    "# First, let's recreate the movie dataset:\n",
    "movies_data = {\n",
    "    'Title': ['The Matrix', 'Inception', 'Parasite', 'Toy Story', 'Pulp Fiction', 'The Dark Knight'],\n",
    "    'Year': [1999, 2010, 2019, 1995, 1994, 2008],\n",
    "    'Genre': ['Sci-Fi', 'Sci-Fi', 'Thriller', 'Animation', 'Crime', 'Action'],\n",
    "    'Rating': [8.7, 8.8, 8.6, 8.3, 8.9, 9.0],\n",
    "    'Duration': [136, 148, 132, 81, 154, 152]\n",
    "}\n",
    "\n",
    "movies_df = pd.DataFrame(movies_data)\n",
    "print(\"Movie Dataset:\")\n",
    "print(movies_df)\n",
    "\n",
    "# Calculate statistics for movie ratings:\n",
    "# Your code here..."
   ]
  },
  {
   "cell_type": "code",
   "execution_count": null,
   "id": "871c53f3",
   "metadata": {},
   "outputs": [],
   "source": [
    "# Exercise 2: Compare Decades\n",
    "# Calculate statistics for movies from different decades\n",
    "# Add a 'Decade' column and group by it\n",
    "\n",
    "# Your code here..."
   ]
  },
  {
   "cell_type": "code",
   "execution_count": null,
   "id": "fd00e613",
   "metadata": {},
   "outputs": [],
   "source": [
    "# Exercise 3: Find Outliers\n",
    "# Which movies have ratings more than 2 standard deviations from the mean?\n",
    "\n",
    "# Your code here..."
   ]
  },
  {
   "cell_type": "code",
   "execution_count": null,
   "id": "dcaff87d",
   "metadata": {},
   "outputs": [],
   "source": [
    "# Exercise 4: Create Rankings\n",
    "# Use percentiles to rank movies within each genre\n",
    "\n",
    "# Your code here..."
   ]
  },
  {
   "cell_type": "markdown",
   "id": "bb424503",
   "metadata": {},
   "source": [
    "## What's Next?\n",
    "\n",
    "Now that we understand basic statistics, we're ready to explore how different variables relate to each other! In the next lesson, we'll learn about correlations - discovering which things tend to go together.\n",
    "\n",
    "**Next: [Discovering Relationships with Correlations](/data-analytics-05-correlations/)**"
   ]
  }
 ],
 "metadata": {
  "language_info": {
   "name": "python"
  }
 },
 "nbformat": 4,
 "nbformat_minor": 5
}
