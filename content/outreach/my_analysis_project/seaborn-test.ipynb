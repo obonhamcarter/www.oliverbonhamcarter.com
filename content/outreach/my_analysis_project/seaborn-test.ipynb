{
 "cells": [
  {
   "cell_type": "markdown",
   "id": "f87b066a",
   "metadata": {},
   "source": [
    "# Seaborn Test Notebook\n",
    "\n",
    "This notebook tests if seaborn and related data science libraries are working properly in JupyterLite."
   ]
  },
  {
   "cell_type": "code",
   "execution_count": null,
   "id": "8c3280e9",
   "metadata": {},
   "outputs": [],
   "source": [
    "# Install required packages for data analytics\n",
    "import piplite\n",
    "await piplite.install(['seaborn', 'matplotlib', 'pandas', 'numpy', 'scipy', 'plotly'])\n",
    "print(\"Packages installed successfully!\")\n",
    "print(\"You can now import and use: seaborn, matplotlib, pandas, numpy, scipy, plotly\")"
   ]
  },
  {
   "cell_type": "code",
   "execution_count": null,
   "id": "2e3b316a",
   "metadata": {},
   "outputs": [],
   "source": [
    "# Test imports for data science libraries\n",
    "import pandas as pd\n",
    "import numpy as np\n",
    "import matplotlib.pyplot as plt\n",
    "import seaborn as sns\n",
    "\n",
    "print(\"✓ All libraries imported successfully!\")\n",
    "print(f\"Pandas version: {pd.__version__}\")\n",
    "print(f\"NumPy version: {np.__version__}\")\n",
    "print(f\"Seaborn version: {sns.__version__}\")"
   ]
  },
  {
   "cell_type": "code",
   "execution_count": null,
   "id": "560855ec",
   "metadata": {},
   "outputs": [],
   "source": [
    "# Create a simple dataset and visualization using seaborn\n",
    "data = {\n",
    "    'x': np.random.randn(100),\n",
    "    'y': np.random.randn(100),\n",
    "    'category': np.random.choice(['A', 'B', 'C'], 100)\n",
    "}\n",
    "\n",
    "df = pd.DataFrame(data)\n",
    "\n",
    "# Set seaborn style\n",
    "sns.set_style(\"whitegrid\")\n",
    "\n",
    "# Create a scatter plot with seaborn\n",
    "plt.figure(figsize=(8, 6))\n",
    "sns.scatterplot(data=df, x='x', y='y', hue='category', s=60)\n",
    "plt.title('Seaborn Test Plot - Scatter Plot by Category')\n",
    "plt.show()\n",
    "\n",
    "print(\"✓ Seaborn visualization created successfully!\")"
   ]
  },
  {
   "cell_type": "code",
   "execution_count": null,
   "id": "cd60282f",
   "metadata": {},
   "outputs": [],
   "source": [
    "# Test seaborn's built-in datasets and advanced plotting\n",
    "# Create sample data similar to what students will use\n",
    "student_data = {\n",
    "    'Hours_Studied': [5, 8, 4, 10, 6, 3, 9, 7],\n",
    "    'Test_Score': [85, 92, 78, 95, 88, 76, 91, 87],\n",
    "    'Grade': ['10th', '11th', '10th', '12th', '11th', '10th', '11th', '12th']\n",
    "}\n",
    "\n",
    "student_df = pd.DataFrame(student_data)\n",
    "\n",
    "# Create a regression plot with seaborn\n",
    "plt.figure(figsize=(10, 6))\n",
    "sns.regplot(data=student_df, x='Hours_Studied', y='Test_Score', scatter_kws={'s': 80})\n",
    "plt.title('Study Hours vs Test Scores (with regression line)')\n",
    "plt.xlabel('Hours Studied per Week')\n",
    "plt.ylabel('Test Score')\n",
    "plt.show()\n",
    "\n",
    "print(\"✓ Seaborn regression plot created successfully!\")"
   ]
  },
  {
   "cell_type": "code",
   "execution_count": null,
   "id": "48dc377c",
   "metadata": {},
   "outputs": [],
   "source": [
    "# Test seaborn heatmap (correlation matrix)\n",
    "# This is used in the data analytics lessons\n",
    "correlation_data = student_df[['Hours_Studied', 'Test_Score']].corr()\n",
    "\n",
    "plt.figure(figsize=(8, 6))\n",
    "sns.heatmap(correlation_data, annot=True, cmap='RdBu_r', center=0, square=True)\n",
    "plt.title('Correlation Matrix Heatmap')\n",
    "plt.show()\n",
    "\n",
    "print(\"✓ Seaborn heatmap created successfully!\")\n",
    "print(\"\\n🎉 All seaborn functionality is working properly in JupyterLite!\")"
   ]
  }
 ],
 "metadata": {
  "language_info": {
   "name": "python"
  }
 },
 "nbformat": 4,
 "nbformat_minor": 5
}
